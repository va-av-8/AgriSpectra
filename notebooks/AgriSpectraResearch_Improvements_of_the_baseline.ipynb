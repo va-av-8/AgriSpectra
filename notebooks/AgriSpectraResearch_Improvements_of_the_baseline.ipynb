{
  "nbformat": 4,
  "nbformat_minor": 0,
  "metadata": {
    "colab": {
      "provenance": [],
      "gpuType": "T4",
      "toc_visible": true
    },
    "kernelspec": {
      "name": "python3",
      "display_name": "Python 3"
    },
    "language_info": {
      "name": "python"
    },
    "accelerator": "GPU"
  },
  "cells": [
    {
      "cell_type": "markdown",
      "source": [
        "# AgriSpectra\n"
      ],
      "metadata": {
        "id": "iUqJ-UEtIOEe"
      }
    },
    {
      "cell_type": "markdown",
      "source": [
        "## Introduction"
      ],
      "metadata": {
        "id": "XeImGfMl732J"
      }
    },
    {
      "cell_type": "markdown",
      "source": [
        "Here is the task description and baseline models and experiments: https://www.kaggle.com/code/anastasiagapeeva/agrispectraresearch#AgriSpectra"
      ],
      "metadata": {
        "id": "Rgbn7WOrIKH3"
      }
    },
    {
      "cell_type": "markdown",
      "source": [
        "I'm using Eyes on the ground dataset which described in detail in previous part of the work available via link above.    \n",
        "I've not obtain good quality on whole classes for crop name and damage, so one of my baseline assumptions is left only maize from crops, so, now I would not predict any crop name, and only 3 types of damages: G (Good (growth)), WD (Weed) and DR (Drought).  Growth Stages stay same as in original dataset: F (Flowering), M (Maturity), S (Sowing), V (Vegetative). Extent also stay the same, from 0 to 100.    \n",
        "\n",
        "At this step of work I will try to use following techniques to improve models quality:\n",
        "- special data augmentations for underrepresented classes;\n",
        "- WeightedRandomSampler;\n",
        "- more complex model architecture;\n",
        "- weighted CrossEntropyLoss;\n",
        "- AdamW optimizer;\n",
        "- for the early stopping mechanism, monitor not the discrete metric (F1), but the validation loss;\n",
        "- selection of optimizer and scheduler parameters in a cycle for a model with the best architecture."
      ],
      "metadata": {
        "id": "lgxKbUwaIeM7"
      }
    },
    {
      "cell_type": "markdown",
      "source": [
        "It would be appropriate to apply different improvement strategies gradually and evaluate the contribution of each, but in the context of a very tight deadline, I will group these methods as follows:\n",
        "1. Step 1: choose best model from previously trained, then use:\n",
        "- special data augmentations for underrepresented classes;\n",
        "- AdamW optimizer;\n",
        "- for the early stopping mechanism, monitor not the discrete metric (F1), but the validation loss;\n",
        "2. Step 2: all above with more complex model architecture;\n",
        "3. Step 3: use WeightedRandomSampler;\n",
        "4. Step 4: use weighted CrossEntropyLoss;   \n",
        "5. Step 5: selection of optimizer and scheduler parameters in a cycle for a model with the best architecture;   \n",
        "   \n",
        "For the Step 1 let's choose best model from two baseline models, because all experiments led to overfitting.\n"
      ],
      "metadata": {
        "id": "vBgNUZluCgId"
      }
    },
    {
      "cell_type": "markdown",
      "source": [
        "## Imports"
      ],
      "metadata": {
        "id": "hRL3sDUk77PU"
      }
    },
    {
      "cell_type": "code",
      "source": [
        "!pip install python-dotenv"
      ],
      "metadata": {
        "id": "tb-PzIyHIe5O",
        "colab": {
          "base_uri": "https://localhost:8080/"
        },
        "outputId": "d833cdb9-99fc-45f3-e3a5-fe34e7631338"
      },
      "execution_count": 1,
      "outputs": [
        {
          "output_type": "stream",
          "name": "stdout",
          "text": [
            "Requirement already satisfied: python-dotenv in /usr/local/lib/python3.11/dist-packages (1.1.0)\n"
          ]
        }
      ]
    },
    {
      "cell_type": "markdown",
      "source": [
        "All necessary imports are below:"
      ],
      "metadata": {
        "id": "km8aCskkqiMv"
      }
    },
    {
      "cell_type": "code",
      "source": [
        "import os\n",
        "import time\n",
        "import wandb\n",
        "import torch\n",
        "import pandas as pd\n",
        "import numpy as np\n",
        "import matplotlib.pyplot as plt\n",
        "import torchvision.transforms as T\n",
        "import torch.nn as nn\n",
        "import torch.optim as optim\n",
        "from multiprocessing import cpu_count\n",
        "from torch.optim.lr_scheduler import ReduceLROnPlateau\n",
        "from torchvision.models import resnet18, efficientnet_b0, ResNet18_Weights, EfficientNet_B0_Weights\n",
        "from dotenv import load_dotenv\n",
        "from torch.utils.data import Dataset, DataLoader, WeightedRandomSampler\n",
        "from sklearn.metrics import confusion_matrix, classification_report, ConfusionMatrixDisplay\n",
        "from PIL import Image\n",
        "from glob import glob\n",
        "from typing import List, Dict, Any, Optional\n",
        "from sklearn.model_selection import train_test_split\n",
        "from sklearn.metrics import accuracy_score, f1_score, classification_report\n",
        "from sklearn.utils.class_weight import compute_class_weight\n",
        "from collections import defaultdict, Counter\n",
        "from PIL import Image, ImageStat\n",
        "from tqdm import tqdm\n",
        "from IPython.display import clear_output"
      ],
      "metadata": {
        "id": "2l77ans4VQpD"
      },
      "execution_count": 2,
      "outputs": []
    },
    {
      "cell_type": "code",
      "source": [
        "gpu_info = !nvidia-smi\n",
        "gpu_info = '\\n'.join(gpu_info)\n",
        "if gpu_info.find('failed') >= 0:\n",
        "  print('Not connected to a GPU')\n",
        "else:\n",
        "  print(gpu_info)"
      ],
      "metadata": {
        "id": "SWHdxiPekfds",
        "colab": {
          "base_uri": "https://localhost:8080/"
        },
        "outputId": "996d32a2-505e-4489-a1f5-8cf28353a552"
      },
      "execution_count": 3,
      "outputs": [
        {
          "output_type": "stream",
          "name": "stdout",
          "text": [
            "Wed May 28 20:38:58 2025       \n",
            "+-----------------------------------------------------------------------------------------+\n",
            "| NVIDIA-SMI 550.54.15              Driver Version: 550.54.15      CUDA Version: 12.4     |\n",
            "|-----------------------------------------+------------------------+----------------------+\n",
            "| GPU  Name                 Persistence-M | Bus-Id          Disp.A | Volatile Uncorr. ECC |\n",
            "| Fan  Temp   Perf          Pwr:Usage/Cap |           Memory-Usage | GPU-Util  Compute M. |\n",
            "|                                         |                        |               MIG M. |\n",
            "|=========================================+========================+======================|\n",
            "|   0  Tesla T4                       Off |   00000000:00:04.0 Off |                    0 |\n",
            "| N/A   68C    P8             11W /   70W |       0MiB /  15360MiB |      0%      Default |\n",
            "|                                         |                        |                  N/A |\n",
            "+-----------------------------------------+------------------------+----------------------+\n",
            "                                                                                         \n",
            "+-----------------------------------------------------------------------------------------+\n",
            "| Processes:                                                                              |\n",
            "|  GPU   GI   CI        PID   Type   Process name                              GPU Memory |\n",
            "|        ID   ID                                                               Usage      |\n",
            "|=========================================================================================|\n",
            "|  No running processes found                                                             |\n",
            "+-----------------------------------------------------------------------------------------+\n"
          ]
        }
      ]
    },
    {
      "cell_type": "markdown",
      "source": [
        "## Variables and wandb adjusting"
      ],
      "metadata": {
        "id": "XYglZSJo7_BA"
      }
    },
    {
      "cell_type": "markdown",
      "source": [
        "Track experiments in wandb:"
      ],
      "metadata": {
        "id": "zkxz_5KLqwns"
      }
    },
    {
      "cell_type": "code",
      "source": [
        "load_dotenv('/content/drive/MyDrive/AgriSpectra/.env')\n",
        "\n",
        "wandb_key = os.getenv(\"WANDB_API_KEY\")\n",
        "wandb.login(key=wandb_key)"
      ],
      "metadata": {
        "colab": {
          "base_uri": "https://localhost:8080/"
        },
        "id": "i3lsaGeAUtAy",
        "outputId": "d7ab28e5-78ad-404e-9e86-72ab5b4c58cd"
      },
      "execution_count": 4,
      "outputs": [
        {
          "output_type": "stream",
          "name": "stderr",
          "text": [
            "\u001b[34m\u001b[1mwandb\u001b[0m: \u001b[33mWARNING\u001b[0m If you're specifying your api key in code, ensure this code is not shared publicly.\n",
            "\u001b[34m\u001b[1mwandb\u001b[0m: \u001b[33mWARNING\u001b[0m Consider setting the WANDB_API_KEY environment variable, or running `wandb login` from the command line.\n",
            "\u001b[34m\u001b[1mwandb\u001b[0m: Appending key for api.wandb.ai to your netrc file: /root/.netrc\n",
            "\u001b[34m\u001b[1mwandb\u001b[0m: Currently logged in as: \u001b[33manastasiia-gapeeva\u001b[0m (\u001b[33ma-gapeeva\u001b[0m) to \u001b[32mhttps://api.wandb.ai\u001b[0m. Use \u001b[1m`wandb login --relogin`\u001b[0m to force relogin\n"
          ]
        },
        {
          "output_type": "execute_result",
          "data": {
            "text/plain": [
              "True"
            ]
          },
          "metadata": {},
          "execution_count": 4
        }
      ]
    },
    {
      "cell_type": "code",
      "source": [
        "def init_wandb_run(\n",
        "    model_name: str,\n",
        "    label_maps: dict,\n",
        "    image_size=(256, 256),\n",
        "    num_epochs=10,\n",
        "    learning_rate=1e-4,\n",
        "    group=\"effb0_vs_rn18\",\n",
        "    optimizer='AdamW',\n",
        "    loss='CrossEntropy',\n",
        "    tags=['improved']\n",
        "):\n",
        "    config = {\n",
        "        \"architecture\": model_name,\n",
        "        \"image_size\": image_size,\n",
        "        \"epochs\": num_epochs,\n",
        "        \"learning_rate\": learning_rate,\n",
        "        \"optimizer\": optimizer,\n",
        "        \"loss\": loss,\n",
        "        \"labels\": list(label_maps.keys()),\n",
        "        \"num_classes\": {k: len(v) for k, v in label_maps.items()}\n",
        "    }\n",
        "\n",
        "    wandb.init(\n",
        "        project=\"eotg-multilabel\",\n",
        "        name=f\"{model_name}_{wandb.util.generate_id()[:4]}\",  # run's name\n",
        "        config=config,\n",
        "        group=group,\n",
        "        tags=tags\n",
        "    )"
      ],
      "metadata": {
        "id": "zHQSiKK8CGtP"
      },
      "execution_count": 5,
      "outputs": []
    },
    {
      "cell_type": "markdown",
      "source": [
        "For the better augmentations quality, let's see where the models most often make mistakes, what are the most common errors.   \n",
        "We will use checkpoints from previous experiments."
      ],
      "metadata": {
        "id": "XQMlBTpymSd_"
      }
    },
    {
      "cell_type": "code",
      "source": [
        "device = torch.device('cuda' if torch.cuda.is_available() else 'cpu')\n",
        "batch_size = 32\n",
        "num_workers = 2\n",
        "\n",
        "# Models paths\n",
        "model_paths = {\n",
        "    'resnet18_bsl': '/content/drive/MyDrive/AgriSpectra/nn_weights/best_model_rn_new.pth',\n",
        "    'effb0_bsl':    '/content/drive/MyDrive/AgriSpectra/nn_weights/best_model_effb0_new.pth'\n",
        "}\n",
        "\n",
        "# Dataset paths\n",
        "train_csv  = '/content/drive/MyDrive/AgriSpectra/EotG_Dataset/train_new.csv'\n",
        "valid_csv  = '/content/drive/MyDrive/AgriSpectra/EotG_Dataset/valid_new.csv'\n",
        "test_csv   = '/content/drive/MyDrive/AgriSpectra/EotG_Dataset/test_new.csv'\n",
        "image_dir  = '/content/drive/MyDrive/AgriSpectra/EotG_Dataset/images/'\n",
        "\n",
        "image_size=(256, 256)\n",
        "# Previously evaluated, refer to Kaggle notebook via link above for details\n",
        "mean=(0.4536, 0.4510, 0.3253)\n",
        "std=(0.2462, 0.2511, 0.2887)\n",
        "\n",
        "# Define image transform\n",
        "transform = T.Compose([\n",
        "        T.Resize(image_size),\n",
        "        T.ToTensor(),\n",
        "        T.Normalize(mean=mean, std=std)\n",
        "    ])"
      ],
      "metadata": {
        "id": "pNrID31PlBsk"
      },
      "execution_count": 6,
      "outputs": []
    },
    {
      "cell_type": "markdown",
      "source": [
        "## Dataset class definition"
      ],
      "metadata": {
        "id": "CcGeejA_8LuT"
      }
    },
    {
      "cell_type": "code",
      "source": [
        "# Dataset class definision\n",
        "class MultiHeadEotGDataset(Dataset):\n",
        "    def __init__(self, csv_file, image_dir, transform=None, label_maps=None):\n",
        "        self.df = pd.read_csv(csv_file)\n",
        "        self.image_dir = image_dir\n",
        "        self.transform = transform\n",
        "\n",
        "        # Only 3 labels\n",
        "        self.label_cols = ['growth_stage', 'damage', 'extent']\n",
        "\n",
        "        # If label_maps is not passed, build it (only for train)\n",
        "        if label_maps is None:\n",
        "            self.label_maps = {\n",
        "                col: {val: i for i, val in enumerate(sorted(self.df[col].unique()))}\n",
        "                for col in self.label_cols\n",
        "            }\n",
        "        else:\n",
        "            self.label_maps = label_maps\n",
        "\n",
        "        # Reverse mappings: int → string\n",
        "        self.inverse_label_maps = {\n",
        "            col: {i: val for val, i in self.label_maps[col].items()}\n",
        "            for col in self.label_cols\n",
        "        }\n",
        "\n",
        "    def __len__(self):\n",
        "        return len(self.df)\n",
        "\n",
        "    def __getitem__(self, idx):\n",
        "        row = self.df.iloc[idx]\n",
        "        img_path = os.path.join(self.image_dir, row['filename'])\n",
        "        image = Image.open(img_path).convert(\"RGB\")\n",
        "\n",
        "        if self.transform:\n",
        "            image = self.transform(image)\n",
        "\n",
        "        labels = {\n",
        "            col: torch.tensor(self.label_maps[col][row[col]], dtype=torch.long)\n",
        "            for col in self.label_cols\n",
        "        }\n",
        "\n",
        "        return image, labels"
      ],
      "metadata": {
        "id": "L4eZnzQ7tWId"
      },
      "execution_count": 49,
      "outputs": []
    },
    {
      "cell_type": "markdown",
      "source": [
        "## ResNet18 based model class definition"
      ],
      "metadata": {
        "id": "Z3VMG-2z8PYu"
      }
    },
    {
      "cell_type": "code",
      "source": [
        "# Baseline ResNet18 based model\n",
        "class MultiHeadClassifierRN18(nn.Module):\n",
        "    def __init__(self, num_classes_dict):\n",
        "        super().__init__()\n",
        "        base_model = resnet18(weights=ResNet18_Weights.IMAGENET1K_V1) # pre-trained model weights on the ImageNet-1K dataset\n",
        "        self.backbone = nn.Sequential(*list(base_model.children())[:-1])  # remove FC\n",
        "\n",
        "        self.flatten = nn.Flatten()\n",
        "\n",
        "        self.heads = nn.ModuleDict({\n",
        "            name: nn.Linear(base_model.fc.in_features, num_classes)\n",
        "            for name, num_classes in num_classes_dict.items()\n",
        "        })\n",
        "\n",
        "    def forward(self, x):\n",
        "        x = self.backbone(x)\n",
        "        x = self.flatten(x)\n",
        "\n",
        "        outputs = {name: head(x) for name, head in self.heads.items()}\n",
        "        return outputs  # returns dict: {crop_name: logits, growth_stage: logits, ...}"
      ],
      "metadata": {
        "id": "PDPbJxBcvq-3"
      },
      "execution_count": 8,
      "outputs": []
    },
    {
      "cell_type": "markdown",
      "source": [
        "## Efficient-B0 based model class definition"
      ],
      "metadata": {
        "id": "0QBOi0t38aJ6"
      }
    },
    {
      "cell_type": "code",
      "source": [
        "# Baseline EfficientNet-B0 based model\n",
        "class MultiHeadClassifierEffB0(nn.Module):\n",
        "    def __init__(self, num_classes_dict):\n",
        "        super().__init__()\n",
        "        base_model = efficientnet_b0(weights=EfficientNet_B0_Weights.IMAGENET1K_V1)\n",
        "\n",
        "        # Delete classification head and replace it with our heads\n",
        "        self.backbone = base_model.features\n",
        "        self.pool = base_model.avgpool  # AdaptiveAvgPool2d(output_size=1)\n",
        "        self.flatten = nn.Flatten()\n",
        "\n",
        "        in_features = base_model.classifier[1].in_features  # usually 1280\n",
        "\n",
        "        self.heads = nn.ModuleDict({\n",
        "            name: nn.Linear(in_features, num_classes)\n",
        "            for name, num_classes in num_classes_dict.items()\n",
        "        })\n",
        "\n",
        "    def forward(self, x):\n",
        "        x = self.backbone(x)\n",
        "        x = self.pool(x)\n",
        "        x = self.flatten(x)\n",
        "\n",
        "        outputs = {name: head(x) for name, head in self.heads.items()}\n",
        "        return outputs  # dict: {crop_name: logits, ...}"
      ],
      "metadata": {
        "id": "Y9Z8AlCkv6HI"
      },
      "execution_count": 9,
      "outputs": []
    },
    {
      "cell_type": "markdown",
      "source": [
        "## Models performance checking"
      ],
      "metadata": {
        "id": "6UoMo9ng8h22"
      }
    },
    {
      "cell_type": "code",
      "source": [
        "# Initialize train dataset\n",
        "train_ds = MultiHeadEotGDataset(\n",
        "    csv_file=train_csv,\n",
        "    image_dir=image_dir,\n",
        "    transform=transform\n",
        ")\n",
        "\n",
        "label_maps = train_ds.label_maps\n",
        "inverse_label_maps = train_ds.inverse_label_maps\n",
        "label_cols = train_ds.label_cols"
      ],
      "metadata": {
        "id": "UpV9vZTZ0LGy"
      },
      "execution_count": 10,
      "outputs": []
    },
    {
      "cell_type": "code",
      "source": [
        "# Initialize test dataset with same mapping\n",
        "test_ds = MultiHeadEotGDataset(\n",
        "    csv_file=test_csv,\n",
        "    image_dir=image_dir,\n",
        "    transform=transform,\n",
        "    label_maps=label_maps\n",
        ")"
      ],
      "metadata": {
        "id": "MDWRHOxti78V"
      },
      "execution_count": 11,
      "outputs": []
    },
    {
      "cell_type": "code",
      "source": [
        "test_ds[0]"
      ],
      "metadata": {
        "colab": {
          "base_uri": "https://localhost:8080/"
        },
        "id": "P9Mbcq9m2eYs",
        "outputId": "21d8a1a6-f993-4338-83e7-6075cb50ad38"
      },
      "execution_count": 12,
      "outputs": [
        {
          "output_type": "execute_result",
          "data": {
            "text/plain": [
              "(tensor([[[ 1.0884,  1.1043,  1.1203,  ...,  0.8654,  0.7858,  0.6424],\n",
              "          [ 1.0884,  1.1043,  1.1362,  ...,  0.4991,  0.4672,  0.5946],\n",
              "          [ 1.1203,  1.1362,  1.1521,  ...,  0.3239,  0.2920,  0.4354],\n",
              "          ...,\n",
              "          [-0.9982, -0.7911, -0.8071,  ..., -0.7752, -0.7752, -0.6637],\n",
              "          [-1.0141, -0.8071, -0.7433,  ...,  0.2124, -0.5363, -0.8708],\n",
              "          [-0.9504, -0.9186, -0.8230,  ...,  0.9132,  1.0247,  0.0371]],\n",
              " \n",
              "         [[ 1.2337,  1.2493,  1.2649,  ...,  0.8277,  0.7652,  0.6402],\n",
              "          [ 1.2493,  1.2493,  1.2806,  ...,  0.4528,  0.4372,  0.5622],\n",
              "          [ 1.2806,  1.2806,  1.2962,  ...,  0.2654,  0.2342,  0.3904],\n",
              "          ...,\n",
              "          [-1.4213, -1.2182, -1.2495,  ..., -1.5150, -1.4994, -1.4057],\n",
              "          [-1.4369, -1.2495, -1.2182,  ..., -0.5311, -1.2339, -1.5775],\n",
              "          [-1.3744, -1.3588, -1.3120,  ...,  0.1405,  0.2498, -0.7185]],\n",
              " \n",
              "         [[ 2.1740,  2.2012,  2.2555,  ...,  0.3538,  0.2452,  0.0686],\n",
              "          [ 2.1740,  2.2148,  2.2555,  ...,  0.0822,  0.0414,  0.0822],\n",
              "          [ 2.1740,  2.2012,  2.2555,  ...,  0.0550, -0.0265,  0.0550],\n",
              "          ...,\n",
              "          [-0.8551, -0.6785, -0.6921,  ..., -1.0317, -1.0181, -0.9638],\n",
              "          [-0.8687, -0.6921, -0.6649,  ..., -0.1895, -0.7736, -1.0453],\n",
              "          [-0.8144, -0.7872, -0.7464,  ...,  0.3538,  0.4489, -0.3525]]]),\n",
              " {'growth_stage': tensor(3), 'damage': tensor(2), 'extent': tensor(1)})"
            ]
          },
          "metadata": {},
          "execution_count": 12
        }
      ]
    },
    {
      "cell_type": "code",
      "source": [
        "test_loader = DataLoader(test_ds, batch_size=batch_size, shuffle=False, num_workers=num_workers)"
      ],
      "metadata": {
        "id": "KA6HXe7o26SW"
      },
      "execution_count": 13,
      "outputs": []
    },
    {
      "cell_type": "code",
      "source": [
        "num_classes = {col: len(map_) for col, map_ in train_ds.label_maps.items()}\n",
        "num_classes"
      ],
      "metadata": {
        "colab": {
          "base_uri": "https://localhost:8080/"
        },
        "id": "4iRIabyM3O1s",
        "outputId": "bd9bcaa3-37b0-4e31-8c23-9bf4020d2045"
      },
      "execution_count": 14,
      "outputs": [
        {
          "output_type": "execute_result",
          "data": {
            "text/plain": [
              "{'growth_stage': 4, 'damage': 3, 'extent': 11}"
            ]
          },
          "metadata": {},
          "execution_count": 14
        }
      ]
    },
    {
      "cell_type": "code",
      "source": [
        "# Error analysis function for one head\n",
        "def analyze_head(all_preds, all_labels, classes, head_name, model_name):\n",
        "    n_classes = len(classes)\n",
        "    labels_range = list(range(n_classes))\n",
        "\n",
        "    acc = accuracy_score(all_labels, all_preds)\n",
        "    f1_macro = f1_score(all_labels, all_preds, labels=labels_range, average='macro', zero_division=0)\n",
        "    print(f\"{model_name} / {head_name} — Accuracy: {acc:.4f}, Macro-F1: {f1_macro:.4f}\")\n",
        "    print(\"-\" * 60)\n",
        "\n",
        "    class_labels = [str(c) for c in classes]\n",
        "\n",
        "    cm = confusion_matrix(all_labels, all_preds, labels=labels_range)\n",
        "    disp = ConfusionMatrixDisplay(cm, display_labels=class_labels)\n",
        "    fig, ax = plt.subplots(figsize=(6,6))\n",
        "    disp.plot(ax=ax, xticks_rotation=45)\n",
        "    ax.set_title(f\"{model_name} — {head_name}\")\n",
        "    plt.show()\n",
        "\n",
        "    report = classification_report(\n",
        "        all_labels,\n",
        "        all_preds,\n",
        "        labels=labels_range,\n",
        "        target_names=class_labels,\n",
        "        zero_division=0\n",
        "    )\n",
        "    print(f\"Classification Report — {model_name} / {head_name}\\n\")\n",
        "    print(report)\n",
        "    print(\"―\" * 80)"
      ],
      "metadata": {
        "id": "pUJB6oCc2_EE"
      },
      "execution_count": 15,
      "outputs": []
    },
    {
      "cell_type": "code",
      "source": [
        "# Basic cycle for all models\n",
        "for model_name, ckpt_path in model_paths.items():\n",
        "    print(f\"\\n\\n===== Evaluating {model_name} =====\\n\")\n",
        "    # Selecting a model class\n",
        "    if 'resnet18' in model_name:\n",
        "        model = MultiHeadClassifierRN18(num_classes)\n",
        "    else:\n",
        "        model = MultiHeadClassifierEffB0(num_classes)\n",
        "    # Load weights and translate into eval\n",
        "    model.load_state_dict(torch.load(ckpt_path, map_location=device))\n",
        "    model.to(device).eval()\n",
        "\n",
        "    # Collection of predictions and true marks\n",
        "    all_preds = {col: [] for col in label_cols}\n",
        "    all_labels = {col: [] for col in label_cols}\n",
        "    with torch.no_grad():\n",
        "        for imgs, labels in tqdm(test_loader, desc='Test'):\n",
        "            imgs = imgs.to(device)\n",
        "            outputs = model(imgs)  # dict: {col: logits}\n",
        "            for col in label_cols:\n",
        "                preds = outputs[col].argmax(dim=1).cpu().tolist()\n",
        "                trues = labels[col].cpu().tolist()\n",
        "                all_preds[col].extend(preds)\n",
        "                all_labels[col].extend(trues)\n",
        "\n",
        "    # Overal performance\n",
        "    flat_preds  = sum(all_preds.values(), [])\n",
        "    flat_labels = sum(all_labels.values(), [])\n",
        "    overall_acc    = accuracy_score(flat_labels, flat_preds)\n",
        "    overall_f1     = f1_score(flat_labels, flat_preds, average='macro', zero_division=0)\n",
        "    print(f\"{model_name} — Overall Accuracy (all heads): {overall_acc:.4f}, \"\n",
        "          f\"Overall Macro-F1 (all heads): {overall_f1:.4f}\")\n",
        "    print(\"-\" * 80)\n",
        "\n",
        "    # Analysis for each label\n",
        "    for col in label_cols:\n",
        "        classes = [inverse_label_maps[col][i] for i in range(len(label_maps[col]))]\n",
        "        analyze_head(all_preds[col], all_labels[col], classes, col, model_name)"
      ],
      "metadata": {
        "id": "WRqpMAg93HO7",
        "colab": {
          "base_uri": "https://localhost:8080/",
          "height": 1000
        },
        "outputId": "0764b222-9cb6-4845-daf8-afd7070b9f66"
      },
      "execution_count": 16,
      "outputs": [
        {
          "output_type": "stream",
          "name": "stdout",
          "text": [
            "\n",
            "\n",
            "===== Evaluating resnet18_bsl =====\n",
            "\n"
          ]
        },
        {
          "output_type": "stream",
          "name": "stderr",
          "text": [
            "Test: 100%|██████████| 93/93 [00:35<00:00,  2.62it/s]\n"
          ]
        },
        {
          "output_type": "stream",
          "name": "stdout",
          "text": [
            "resnet18_bsl — Overall Accuracy (all heads): 0.6641, Overall Macro-F1 (all heads): 0.4046\n",
            "--------------------------------------------------------------------------------\n",
            "resnet18_bsl / growth_stage — Accuracy: 0.7893, Macro-F1: 0.7804\n",
            "------------------------------------------------------------\n"
          ]
        },
        {
          "output_type": "display_data",
          "data": {
            "text/plain": [
              "<Figure size 600x600 with 2 Axes>"
            ],
            "image/png": "[encoded data removed]"
          },
          "metadata": {}
        },
        {
          "output_type": "stream",
          "name": "stdout",
          "text": [
            "Classification Report — resnet18_bsl / growth_stage\n",
            "\n",
            "              precision    recall  f1-score   support\n",
            "\n",
            "           F       0.70      0.67      0.68       857\n",
            "           M       0.74      0.76      0.75       741\n",
            "           S       0.84      0.77      0.80       142\n",
            "           V       0.87      0.89      0.88      1217\n",
            "\n",
            "    accuracy                           0.79      2957\n",
            "   macro avg       0.79      0.77      0.78      2957\n",
            "weighted avg       0.79      0.79      0.79      2957\n",
            "\n",
            "――――――――――――――――――――――――――――――――――――――――――――――――――――――――――――――――――――――――――――――――\n",
            "resnet18_bsl / damage — Accuracy: 0.7217, Macro-F1: 0.7269\n",
            "------------------------------------------------------------\n"
          ]
        },
        {
          "output_type": "display_data",
          "data": {
            "text/plain": [
              "<Figure size 600x600 with 2 Axes>"
            ],
            "image/png": "[encoded data removed]"
          },
          "metadata": {}
        },
        {
          "output_type": "stream",
          "name": "stdout",
          "text": [
            "Classification Report — resnet18_bsl / damage\n",
            "\n",
            "              precision    recall  f1-score   support\n",
            "\n",
            "          DR       0.73      0.78      0.76       526\n",
            "           G       0.72      0.75      0.73      1286\n",
            "          WD       0.72      0.67      0.69      1145\n",
            "\n",
            "    accuracy                           0.72      2957\n",
            "   macro avg       0.72      0.73      0.73      2957\n",
            "weighted avg       0.72      0.72      0.72      2957\n",
            "\n",
            "――――――――――――――――――――――――――――――――――――――――――――――――――――――――――――――――――――――――――――――――\n",
            "resnet18_bsl / extent — Accuracy: 0.4812, Macro-F1: 0.2557\n",
            "------------------------------------------------------------\n"
          ]
        },
        {
          "output_type": "display_data",
          "data": {
            "text/plain": [
              "<Figure size 600x600 with 2 Axes>"
            ],
            "image/png": "[encoded data removed]"
          },
          "metadata": {}
        },
        {
          "output_type": "stream",
          "name": "stdout",
          "text": [
            "Classification Report — resnet18_bsl / extent\n",
            "\n",
            "              precision    recall  f1-score   support\n",
            "\n",
            "         0.0       0.68      0.78      0.72      1286\n",
            "        10.0       0.37      0.34      0.35       605\n",
            "        20.0       0.24      0.23      0.23       360\n",
            "        30.0       0.23      0.19      0.21       243\n",
            "        40.0       0.22      0.19      0.20       177\n",
            "        50.0       0.17      0.12      0.14        84\n",
            "        60.0       0.32      0.15      0.20        62\n",
            "        70.0       0.12      0.11      0.12        35\n",
            "        80.0       0.20      0.21      0.21        52\n",
            "        90.0       0.46      0.40      0.42        53\n",
            "       100.0       0.00      0.00      0.00         0\n",
            "\n",
            "    accuracy                           0.48      2957\n",
            "   macro avg       0.27      0.25      0.26      2957\n",
            "weighted avg       0.46      0.48      0.47      2957\n",
            "\n",
            "――――――――――――――――――――――――――――――――――――――――――――――――――――――――――――――――――――――――――――――――\n",
            "\n",
            "\n",
            "===== Evaluating effb0_bsl =====\n",
            "\n"
          ]
        },
        {
          "output_type": "stream",
          "name": "stderr",
          "text": [
            "Test: 100%|██████████| 93/93 [00:23<00:00,  3.98it/s]\n"
          ]
        },
        {
          "output_type": "stream",
          "name": "stdout",
          "text": [
            "effb0_bsl — Overall Accuracy (all heads): 0.6730, Overall Macro-F1 (all heads): 0.4266\n",
            "--------------------------------------------------------------------------------\n",
            "effb0_bsl / growth_stage — Accuracy: 0.8099, Macro-F1: 0.8002\n",
            "------------------------------------------------------------\n"
          ]
        },
        {
          "output_type": "display_data",
          "data": {
            "text/plain": [
              "<Figure size 600x600 with 2 Axes>"
            ],
            "image/png": "[encoded data removed]"
          },
          "metadata": {}
        },
        {
          "output_type": "stream",
          "name": "stdout",
          "text": [
            "Classification Report — effb0_bsl / growth_stage\n",
            "\n",
            "              precision    recall  f1-score   support\n",
            "\n",
            "           F       0.72      0.70      0.71       857\n",
            "           M       0.77      0.78      0.78       741\n",
            "           S       0.85      0.78      0.81       142\n",
            "           V       0.89      0.90      0.89      1217\n",
            "\n",
            "    accuracy                           0.81      2957\n",
            "   macro avg       0.81      0.79      0.80      2957\n",
            "weighted avg       0.81      0.81      0.81      2957\n",
            "\n",
            "――――――――――――――――――――――――――――――――――――――――――――――――――――――――――――――――――――――――――――――――\n",
            "effb0_bsl / damage — Accuracy: 0.7261, Macro-F1: 0.7320\n",
            "------------------------------------------------------------\n"
          ]
        },
        {
          "output_type": "display_data",
          "data": {
            "text/plain": [
              "<Figure size 600x600 with 2 Axes>"
            ],
            "image/png": "[encoded data removed]"
          },
          "metadata": {}
        },
        {
          "output_type": "stream",
          "name": "stdout",
          "text": [
            "Classification Report — effb0_bsl / damage\n",
            "\n",
            "              precision    recall  f1-score   support\n",
            "\n",
            "          DR       0.75      0.77      0.76       526\n",
            "           G       0.74      0.72      0.73      1286\n",
            "          WD       0.70      0.71      0.71      1145\n",
            "\n",
            "    accuracy                           0.73      2957\n",
            "   macro avg       0.73      0.73      0.73      2957\n",
            "weighted avg       0.73      0.73      0.73      2957\n",
            "\n",
            "――――――――――――――――――――――――――――――――――――――――――――――――――――――――――――――――――――――――――――――――\n",
            "effb0_bsl / extent — Accuracy: 0.4829, Macro-F1: 0.2782\n",
            "------------------------------------------------------------\n"
          ]
        },
        {
          "output_type": "display_data",
          "data": {
            "text/plain": [
              "<Figure size 600x600 with 2 Axes>"
            ],
            "image/png": "[encoded data removed]"
          },
          "metadata": {}
        },
        {
          "output_type": "stream",
          "name": "stdout",
          "text": [
            "Classification Report — effb0_bsl / extent\n",
            "\n",
            "              precision    recall  f1-score   support\n",
            "\n",
            "         0.0       0.73      0.74      0.73      1286\n",
            "        10.0       0.36      0.34      0.35       605\n",
            "        20.0       0.26      0.30      0.28       360\n",
            "        30.0       0.22      0.23      0.22       243\n",
            "        40.0       0.25      0.23      0.24       177\n",
            "        50.0       0.23      0.20      0.21        84\n",
            "        60.0       0.20      0.15      0.17        62\n",
            "        70.0       0.40      0.06      0.10        35\n",
            "        80.0       0.31      0.33      0.32        52\n",
            "        90.0       0.40      0.49      0.44        53\n",
            "       100.0       0.00      0.00      0.00         0\n",
            "\n",
            "    accuracy                           0.48      2957\n",
            "   macro avg       0.30      0.28      0.28      2957\n",
            "weighted avg       0.48      0.48      0.48      2957\n",
            "\n",
            "――――――――――――――――――――――――――――――――――――――――――――――――――――――――――――――――――――――――――――――――\n"
          ]
        }
      ]
    },
    {
      "cell_type": "markdown",
      "source": [
        "Since one of benchmarks for project is latency less than 5, we will test the latency on the CPU and GPU for these two models.\n",
        "\n"
      ],
      "metadata": {
        "id": "3xNaPFe9vktS"
      }
    },
    {
      "cell_type": "code",
      "source": [
        "# In addition, check mean inference time for both models\n",
        "DEVICE = torch.device('cpu')\n",
        "torch.set_num_threads(cpu_count())\n",
        "\n",
        "# Check and print where we'll run inference\n",
        "print(f\"torch.cuda.is_available(): {torch.cuda.is_available()}\")\n",
        "print(f\"Inference will run on device: {DEVICE}\\n\")\n",
        "\n",
        "def load_model(model_class, checkpoint_path, num_classes_dict):\n",
        "    \"\"\"\n",
        "    Load a model onto DEVICE (CPU), set it to eval mode.\n",
        "    \"\"\"\n",
        "    model = model_class(num_classes_dict)\n",
        "    # map_location=DEVICE ensures weights go to CPU\n",
        "    model.load_state_dict(torch.load(checkpoint_path, map_location=DEVICE))\n",
        "    model.to(DEVICE)\n",
        "    model.eval()\n",
        "    return model\n",
        "\n",
        "# Create a dummy input tensor on DEVICE\n",
        "dummy_input = torch.randn(1, 3, 224, 224, device=DEVICE)\n",
        "print(f\"Dummy input device: {dummy_input.device}\\n\")\n",
        "\n",
        "# Benchmark each model in model_paths on CPU\n",
        "for model_name, ckpt_path in model_paths.items():\n",
        "    print(f\"--- {model_name} ---\")\n",
        "    # Select the correct class based on name\n",
        "    ModelClass = MultiHeadClassifierRN18 if 'resnet18' in model_name else MultiHeadClassifierEffB0\n",
        "\n",
        "    # Load model onto DEVICE\n",
        "    model = load_model(ModelClass, ckpt_path, num_classes)\n",
        "    # Verify model parameters device\n",
        "    param_device = next(model.parameters()).device\n",
        "    print(f\"Model parameters device: {param_device}\")\n",
        "\n",
        "    # Warm-up runs (keeps measurement consistent)\n",
        "    for _ in range(10):\n",
        "        _ = model(dummy_input)\n",
        "\n",
        "    # Measure average inference time\n",
        "    repetitions = 100\n",
        "    start_time = time.perf_counter()\n",
        "    for _ in range(repetitions):\n",
        "        _ = model(dummy_input)\n",
        "    avg_ms = (time.perf_counter() - start_time) / repetitions * 1000\n",
        "\n",
        "    print(f'{model_name}: {avg_ms:.2f} ms per inference on {DEVICE}\\n')"
      ],
      "metadata": {
        "colab": {
          "base_uri": "https://localhost:8080/"
        },
        "id": "R5Lw-APNGVMP",
        "outputId": "ab1788d7-eb49-4378-fd7c-0453bcf11e69"
      },
      "execution_count": 47,
      "outputs": [
        {
          "output_type": "stream",
          "name": "stdout",
          "text": [
            "torch.cuda.is_available(): True\n",
            "Inference will run on device: cpu\n",
            "\n",
            "Dummy input device: cpu\n",
            "\n",
            "--- resnet18_bsl ---\n",
            "Model parameters device: cpu\n",
            "resnet18_bsl: 92.05 ms per inference on cpu\n",
            "\n",
            "--- effb0_bsl ---\n",
            "Model parameters device: cpu\n",
            "effb0_bsl: 53.70 ms per inference on cpu\n",
            "\n"
          ]
        }
      ]
    },
    {
      "cell_type": "code",
      "source": [
        "# Now let's check on GPU\n",
        "device = torch.device('cuda' if torch.cuda.is_available() else 'cpu')\n",
        "print(f\"Inference will run on device: {device}\")\n",
        "\n",
        "dummy_input = torch.randn(1, 3, 224, 224, device=device)\n",
        "print(f\"Dummy input device: {dummy_input.device}\\n\")\n",
        "\n",
        "for model_name, ckpt_path in model_paths.items():\n",
        "    print(f\"--- {model_name} ---\")\n",
        "\n",
        "    ModelClass = MultiHeadClassifierRN18 if 'resnet18' in model_name else MultiHeadClassifierEffB0\n",
        "\n",
        "    model = ModelClass(num_classes)\n",
        "    model.load_state_dict(torch.load(ckpt_path, map_location=device))\n",
        "    model.to(device).eval()\n",
        "\n",
        "    param_device = next(model.parameters()).device\n",
        "    print(f\"Model parameters device: {param_device}\")\n",
        "\n",
        "    for _ in range(10):\n",
        "        _ = model(dummy_input)\n",
        "\n",
        "    if device.type == 'cuda':\n",
        "        torch.cuda.synchronize()\n",
        "    start = time.perf_counter()\n",
        "    for _ in range(100):\n",
        "        _ = model(dummy_input)\n",
        "    if device.type == 'cuda':\n",
        "        torch.cuda.synchronize()\n",
        "    avg_ms = (time.perf_counter() - start) / 100 * 1000\n",
        "\n",
        "    print(f\"{model_name}: {avg_ms:.2f} ms per inference on {device}\\n\")"
      ],
      "metadata": {
        "colab": {
          "base_uri": "https://localhost:8080/"
        },
        "id": "0gnpAbKVz8G8",
        "outputId": "1fe0b8f6-0ac9-4375-fd9f-358920712a4d"
      },
      "execution_count": 48,
      "outputs": [
        {
          "output_type": "stream",
          "name": "stdout",
          "text": [
            "Inference will run on device: cuda\n",
            "Dummy input device: cuda:0\n",
            "\n",
            "--- resnet18_bsl ---\n",
            "Model parameters device: cuda:0\n",
            "resnet18_bsl: 3.16 ms per inference on cuda\n",
            "\n",
            "--- effb0_bsl ---\n",
            "Model parameters device: cuda:0\n",
            "effb0_bsl: 17.43 ms per inference on cuda\n",
            "\n"
          ]
        }
      ]
    },
    {
      "cell_type": "markdown",
      "source": [
        "**Conclusion:** stage S, damage DR, or extent >= 30 are the classes which have bad metrics. Let's try to use more strong augmentations for them.    \n",
        "Let's choose ResNet18 based model, because its latency is smaler and metrics almost are same as EfficientNet-B0 based model."
      ],
      "metadata": {
        "id": "X7Xgvbs27pXZ"
      }
    },
    {
      "cell_type": "markdown",
      "source": [
        "## Smart augmentations and optimisation"
      ],
      "metadata": {
        "id": "4E5KnwC57tXP"
      }
    },
    {
      "cell_type": "code",
      "source": [
        "# 1. Define two augmentation pipelines: major (soft) and minor (aggressive)\n",
        "transform_major = T.Compose([\n",
        "    T.RandomResizedCrop(256, scale=(0.9, 1.0)),\n",
        "    T.RandomHorizontalFlip(p=0.3),\n",
        "    T.ColorJitter(brightness=0.1, contrast=0.1, saturation=0.1),\n",
        "    T.GaussianBlur(kernel_size=(3, 3), sigma=(0.1, 2.0)),\n",
        "    T.Resize(image_size),\n",
        "    T.ToTensor(),\n",
        "    T.Normalize(mean=mean, std=std),\n",
        "])\n",
        "\n",
        "transform_minor = T.Compose([\n",
        "    T.RandomResizedCrop(256, scale=(0.7, 1.0), ratio=(0.75, 1.33)),\n",
        "    T.RandomHorizontalFlip(p=0.7),\n",
        "    T.RandomVerticalFlip(p=0.3),\n",
        "    T.RandomCrop(200, pad_if_needed=True, padding_mode='reflect'),\n",
        "    T.RandAugment(num_ops=2, magnitude=9),\n",
        "    T.ColorJitter(brightness=0.3, contrast=0.3, saturation=0.3, hue=0.1),\n",
        "    T.GaussianBlur(kernel_size=(5, 9), sigma=(0.1, 5.0)),\n",
        "    T.Resize(image_size),\n",
        "    T.ToTensor(),\n",
        "    T.Normalize(mean=mean, std=std),\n",
        "])\n",
        "\n",
        "test_transform = T.Compose([\n",
        "        T.Resize(image_size),\n",
        "        T.ToTensor(),\n",
        "        T.Normalize(mean=mean, std=std)\n",
        "    ])"
      ],
      "metadata": {
        "id": "uMX_5ijM-a7x"
      },
      "execution_count": 45,
      "outputs": []
    },
    {
      "cell_type": "markdown",
      "source": [
        "Let's re-create Dataset class, so that we could control to which classes apply more complex augmentations."
      ],
      "metadata": {
        "id": "gPfcQknX9mmW"
      }
    },
    {
      "cell_type": "code",
      "source": [
        "class ImbalancedMultiHeadEotGDataset(Dataset):\n",
        "    \"\"\"\n",
        "    Dataset for multi-head labels with targeted augmentation:\n",
        "    - Uses transform_minor for samples with any minority label\n",
        "    - Uses transform_major otherwise\n",
        "    \"\"\"\n",
        "    def __init__(self, csv_file, image_dir, transform_major, transform_minor, label_maps=None):\n",
        "        self.df = pd.read_csv(csv_file)\n",
        "        self.image_dir = image_dir\n",
        "        self.transform_major = transform_major\n",
        "        self.transform_minor = transform_minor\n",
        "\n",
        "        # Define label columns\n",
        "        self.label_cols = ['growth_stage', 'damage', 'extent']\n",
        "\n",
        "        # Build or reuse label_maps\n",
        "        if label_maps is None:\n",
        "            self.label_maps = {\n",
        "                col: {val: i for i, val in enumerate(sorted(self.df[col].unique()))}\n",
        "                for col in self.label_cols\n",
        "            }\n",
        "        else:\n",
        "            self.label_maps = label_maps\n",
        "\n",
        "        # Reverse mapping (if needed)\n",
        "        self.inverse_label_maps = {\n",
        "            col: {i: val for val, i in self.label_maps[col].items()}\n",
        "            for col in self.label_cols\n",
        "        }\n",
        "\n",
        "    def __len__(self):\n",
        "        return len(self.df)\n",
        "\n",
        "    def __getitem__(self, idx):\n",
        "        row = self.df.iloc[idx]\n",
        "        img_path = os.path.join(self.image_dir, row['filename'])\n",
        "        image = Image.open(img_path).convert(\"RGB\")\n",
        "\n",
        "        # Determine if sample is minority: stage S, damage DR, or extent >= 30\n",
        "        is_minority = (\n",
        "            row['growth_stage'] == 'S' or\n",
        "            row['damage'] == 'DR' or\n",
        "            float(row['extent']) >= 30.0\n",
        "        )\n",
        "\n",
        "        # Apply targeted augmentation\n",
        "        if is_minority:\n",
        "            image = self.transform_minor(image)\n",
        "        else:\n",
        "            image = self.transform_major(image)\n",
        "\n",
        "        image = image.clone()\n",
        "\n",
        "        # Map labels to integers\n",
        "        labels = {\n",
        "            col: torch.tensor(self.label_maps[col][row[col]], dtype=torch.long)\n",
        "            for col in self.label_cols\n",
        "        }\n",
        "\n",
        "        return image, labels"
      ],
      "metadata": {
        "id": "Fp4mdk3q4Vak"
      },
      "execution_count": 29,
      "outputs": []
    },
    {
      "cell_type": "code",
      "source": [
        "train_ds = ImbalancedMultiHeadEotGDataset(\n",
        "    train_csv,\n",
        "    image_dir,\n",
        "    transform_major,\n",
        "    transform_minor\n",
        ")\n",
        "\n",
        "valid_ds = ImbalancedMultiHeadEotGDataset(\n",
        "    valid_csv,\n",
        "    image_dir,\n",
        "    test_transform,\n",
        "    test_transform,\n",
        "    label_maps=train_ds.label_maps\n",
        ")"
      ],
      "metadata": {
        "id": "0yFzgmkgLS6F"
      },
      "execution_count": 30,
      "outputs": []
    },
    {
      "cell_type": "code",
      "source": [
        "train_loader = DataLoader(\n",
        "    train_ds,\n",
        "    batch_size=batch_size,\n",
        "    shuffle=True,\n",
        "    num_workers=num_workers\n",
        ")\n",
        "\n",
        "valid_loader = DataLoader(\n",
        "    valid_ds,\n",
        "    batch_size=batch_size,\n",
        "    shuffle=False,\n",
        "    num_workers=num_workers\n",
        ")"
      ],
      "metadata": {
        "id": "4bKKJXQzN-EI"
      },
      "execution_count": 31,
      "outputs": []
    },
    {
      "cell_type": "code",
      "source": [
        "def train_one_epoch(model, dataloader, optimizer, criterion, device):\n",
        "    model.train()\n",
        "    running_loss = 0.0\n",
        "    all_preds = defaultdict(list)\n",
        "    all_labels = defaultdict(list)\n",
        "\n",
        "    for inputs, labels in tqdm(dataloader, desc='Train'):\n",
        "        inputs = inputs.to(device)\n",
        "        labels = {k: v.to(device) for k, v in labels.items()}\n",
        "\n",
        "        outputs = model(inputs)\n",
        "        loss = sum(criterion(outputs[k], labels[k]) for k in outputs.keys() & labels.keys())\n",
        "\n",
        "        optimizer.zero_grad()\n",
        "        loss.backward()\n",
        "        optimizer.step()\n",
        "\n",
        "        running_loss += loss.item()\n",
        "\n",
        "        for key in outputs.keys() & labels.keys():\n",
        "            preds = torch.argmax(outputs[key], dim=1)\n",
        "            all_preds[key].extend(preds.cpu().numpy())\n",
        "            all_labels[key].extend(labels[key].cpu().numpy())\n",
        "\n",
        "    avg_loss = running_loss / len(dataloader)\n",
        "    avg_acc = np.mean([accuracy_score(all_labels[k], all_preds[k]) for k in all_preds])\n",
        "    avg_f1 = np.mean([f1_score(all_labels[k], all_preds[k], average='macro', zero_division=0) for k in all_preds])\n",
        "\n",
        "    return avg_loss, avg_acc, avg_f1"
      ],
      "metadata": {
        "id": "p2g06P5N_Afy"
      },
      "execution_count": 32,
      "outputs": []
    },
    {
      "cell_type": "code",
      "source": [
        "@torch.inference_mode()\n",
        "def evaluate(model, dataloader, criterion, inverse_label_maps, device, print_reports=True):\n",
        "    model.eval()\n",
        "    running_loss = 0.0\n",
        "    all_preds = defaultdict(list)\n",
        "    all_labels = defaultdict(list)\n",
        "\n",
        "    with torch.no_grad():\n",
        "        for inputs, labels in tqdm(dataloader, desc='Valid'):\n",
        "            inputs = inputs.to(device)\n",
        "            labels = {k: v.to(device) for k, v in labels.items()}\n",
        "\n",
        "            outputs = model(inputs)\n",
        "            loss = sum(criterion(outputs[k], labels[k]) for k in outputs.keys() & labels.keys())\n",
        "            running_loss += loss.item()\n",
        "\n",
        "            for key in outputs.keys() & labels.keys():\n",
        "                preds = torch.argmax(outputs[key], dim=1)\n",
        "                all_preds[key].extend(preds.cpu().numpy())\n",
        "                all_labels[key].extend(labels[key].cpu().numpy())\n",
        "\n",
        "    avg_loss = running_loss / len(dataloader)\n",
        "    avg_acc = np.mean([accuracy_score(all_labels[k], all_preds[k]) for k in all_preds])\n",
        "    avg_f1 = np.mean([f1_score(all_labels[k], all_preds[k], average='macro', zero_division=0) for k in all_preds])\n",
        "\n",
        "    if print_reports:\n",
        "        for key in all_preds:\n",
        "            y_true = list(map(int, all_labels[key]))\n",
        "            y_pred = list(map(int, all_preds[key]))\n",
        "            unique_labels = sorted(set(y_true + y_pred))\n",
        "            target_names = [str(inverse_label_maps[key][int(i)]) for i in unique_labels]\n",
        "\n",
        "            print(f\"\\n[Validation Report] Task: {key}\")\n",
        "            print(classification_report(y_true, y_pred, target_names=target_names, zero_division=0))\n",
        "\n",
        "    return avg_loss, avg_acc, avg_f1"
      ],
      "metadata": {
        "id": "jRqGiVf9Ao3N"
      },
      "execution_count": 33,
      "outputs": []
    },
    {
      "cell_type": "markdown",
      "source": [
        "Use the best version of train and validate function with scheduler"
      ],
      "metadata": {
        "id": "IEKMx0aeBAHw"
      }
    },
    {
      "cell_type": "code",
      "source": [
        "def train_and_validate_reg(\n",
        "    model,\n",
        "    inverse_label_maps,\n",
        "    train_loader,\n",
        "    valid_loader,\n",
        "    num_epochs=10,\n",
        "    lr=1e-4,\n",
        "    model_path='/best_model.pth',\n",
        "    weight_decay=1e-5,\n",
        "    early_stopping_patience=5,\n",
        "    reduce_lr_patience=2,\n",
        "    reduce_lr_factor=0.5\n",
        "):\n",
        "    device = torch.device(\"cuda\" if torch.cuda.is_available() else \"cpu\")\n",
        "    model = model.to(device)\n",
        "\n",
        "    # 1) standard CrossEntropyLoss for all heads\n",
        "    criterion = nn.CrossEntropyLoss()\n",
        "\n",
        "    # 2) AdamW optimizer\n",
        "    optimizer = optim.AdamW(model.parameters(), lr=lr, weight_decay=weight_decay)\n",
        "\n",
        "    # 3) LR scheduler on validation loss\n",
        "    scheduler = ReduceLROnPlateau(\n",
        "        optimizer,\n",
        "        mode='min',\n",
        "        factor=reduce_lr_factor,\n",
        "        patience=reduce_lr_patience,\n",
        "        verbose=True\n",
        "    )\n",
        "\n",
        "    best_loss = float('inf')\n",
        "    best_epoch = -1\n",
        "    best_state = None\n",
        "    early_counter = 0\n",
        "\n",
        "    history = {\n",
        "        \"train_loss\": [], \"val_loss\": [],\n",
        "        \"train_acc\": [],  \"val_acc\": [],\n",
        "        \"train_f1\": [],   \"val_f1\": [],\n",
        "    }\n",
        "\n",
        "    for epoch in range(num_epochs):\n",
        "        print(f\"\\nEpoch {epoch+1}/{num_epochs}\")\n",
        "\n",
        "        # training step\n",
        "        train_loss, train_acc, train_f1 = train_one_epoch(\n",
        "            model, train_loader, optimizer, criterion, device\n",
        "        )\n",
        "\n",
        "        # validation step\n",
        "        val_loss, val_acc, val_f1 = evaluate(\n",
        "            model,\n",
        "            valid_loader,\n",
        "            criterion,\n",
        "            inverse_label_maps,\n",
        "            device,\n",
        "            print_reports=False\n",
        "        )\n",
        "\n",
        "        # record history\n",
        "        history['train_loss'].append(train_loss)\n",
        "        history['val_loss'].append(val_loss)\n",
        "        history['train_acc'].append(train_acc)\n",
        "        history['val_acc'].append(val_acc)\n",
        "        history['train_f1'].append(train_f1)\n",
        "        history['val_f1'].append(val_f1)\n",
        "\n",
        "        print(f\"[Train] Loss: {train_loss:.4f} | Acc: {train_acc:.4f} | F1: {train_f1:.4f}\")\n",
        "        print(f\"[Valid] Loss: {val_loss:.4f} | Acc: {val_acc:.4f} | F1: {val_f1:.4f}\")\n",
        "\n",
        "        # log to wandb\n",
        "        wandb.log({\n",
        "            \"epoch\": epoch+1,\n",
        "            \"train_loss\": train_loss,\n",
        "            \"train_acc\": train_acc,\n",
        "            \"train_f1\": train_f1,\n",
        "            \"val_loss\": val_loss,\n",
        "            \"val_acc\": val_acc,\n",
        "            \"val_f1\": val_f1,\n",
        "            \"lr\": optimizer.param_groups[0][\"lr\"],\n",
        "        })\n",
        "\n",
        "        # scheduler step on val_loss\n",
        "        scheduler.step(val_loss)\n",
        "\n",
        "        # plot metrics\n",
        "        clear_output(wait=True)\n",
        "        fig, axs = plt.subplots(1, 3, figsize=(18, 5))\n",
        "        for i, metric in enumerate(['loss', 'acc', 'f1']):\n",
        "            axs[i].plot(history[f\"train_{metric}\"], label='train')\n",
        "            axs[i].plot(history[f\"val_{metric}\"], label='val')\n",
        "            axs[i].set_title(metric.upper())\n",
        "            axs[i].legend()\n",
        "            axs[i].grid(True)\n",
        "        plt.tight_layout()\n",
        "        plt.show()\n",
        "\n",
        "        # early stopping on val_loss\n",
        "        if val_loss < best_loss:\n",
        "            best_loss = val_loss\n",
        "            best_epoch = epoch\n",
        "            best_state = model.state_dict()\n",
        "            torch.save(best_state, model_path)\n",
        "            print(f\"New best model saved (val_loss={best_loss:.4f})\")\n",
        "            early_counter = 0\n",
        "\n",
        "            # save artifact\n",
        "            art = wandb.Artifact(\n",
        "                name=\"best-model\",\n",
        "                type=\"model\",\n",
        "                description=f\"Best at epoch {epoch+1} (val_loss={best_loss:.4f})\"\n",
        "            )\n",
        "            art.add_file(model_path)\n",
        "            wandb.log_artifact(art)\n",
        "        else:\n",
        "            early_counter += 1\n",
        "            print(f\"Early stopping counter: {early_counter}/{early_stopping_patience}\")\n",
        "            if early_counter >= early_stopping_patience:\n",
        "                print(\"Early stopping triggered.\")\n",
        "                break\n",
        "\n",
        "    # final evaluation\n",
        "    print(f\"\\nLoading best model from epoch {best_epoch+1} (val_loss={best_loss:.4f})\")\n",
        "    model.load_state_dict(best_state)\n",
        "    model.to(device)\n",
        "    evaluate(\n",
        "        model,\n",
        "        valid_loader,\n",
        "        criterion,\n",
        "        inverse_label_maps,\n",
        "        device,\n",
        "        print_reports=True\n",
        "    )\n",
        "\n",
        "    wandb.finish()\n",
        "    return history"
      ],
      "metadata": {
        "id": "ov6mYScaAu1C"
      },
      "execution_count": 34,
      "outputs": []
    },
    {
      "cell_type": "code",
      "source": [
        "# Model creation\n",
        "resnet18_model = MultiHeadClassifierRN18(num_classes)"
      ],
      "metadata": {
        "id": "ACsspfIRUmfk"
      },
      "execution_count": 35,
      "outputs": []
    },
    {
      "cell_type": "code",
      "source": [
        "# Try ResNet18\n",
        "init_wandb_run(\n",
        "    model_name=\"resnet18_smartAugm\",\n",
        "    label_maps=train_ds.label_maps,\n",
        "    num_epochs=10,\n",
        "    learning_rate=1e-4,\n",
        "    group=\"rn18_improve\"\n",
        ")\n",
        "\n",
        "history_rn = train_and_validate_reg(\n",
        "    resnet18_model,\n",
        "    inverse_label_maps=train_ds.inverse_label_maps,\n",
        "    train_loader=train_loader,\n",
        "    valid_loader=valid_loader,\n",
        "    num_epochs=10,\n",
        "    lr=1e-4,\n",
        "    model_path='/content/drive/MyDrive/AgriSpectra/nn_weights/resnet18_smartAugm.pth',\n",
        "    weight_decay=1e-5,\n",
        "    early_stopping_patience=5,\n",
        "    reduce_lr_patience=2,\n",
        "    reduce_lr_factor=0.5\n",
        ")"
      ],
      "metadata": {
        "id": "LGoaAnRCBYRo",
        "colab": {
          "base_uri": "https://localhost:8080/",
          "height": 986
        },
        "outputId": "2e446b9f-293a-46f5-e87b-d2db2708756e"
      },
      "execution_count": 46,
      "outputs": [
        {
          "output_type": "display_data",
          "data": {
            "text/plain": [
              "<IPython.core.display.HTML object>"
            ],
            "text/html": [
              "Finishing previous runs because reinit is set to 'default'."
            ]
          },
          "metadata": {}
        },
        {
          "output_type": "display_data",
          "data": {
            "text/plain": [
              "<IPython.core.display.HTML object>"
            ],
            "text/html": []
          },
          "metadata": {}
        },
        {
          "output_type": "display_data",
          "data": {
            "text/plain": [
              "<IPython.core.display.HTML object>"
            ],
            "text/html": [
              " View run <strong style=\"color:#cdcd00\">resnet18_equalAugm_9a2n</strong> at: <a href='https://wandb.ai/a-gapeeva/eotg-multilabel/runs/wxujmnxp' target=\"_blank\">https://wandb.ai/a-gapeeva/eotg-multilabel/runs/wxujmnxp</a><br> View project at: <a href='https://wandb.ai/a-gapeeva/eotg-multilabel' target=\"_blank\">https://wandb.ai/a-gapeeva/eotg-multilabel</a><br>Synced 5 W&B file(s), 0 media file(s), 0 artifact file(s) and 0 other file(s)"
            ]
          },
          "metadata": {}
        },
        {
          "output_type": "display_data",
          "data": {
            "text/plain": [
              "<IPython.core.display.HTML object>"
            ],
            "text/html": [
              "Find logs at: <code>./wandb/run-20250528_204831-wxujmnxp/logs</code>"
            ]
          },
          "metadata": {}
        },
        {
          "output_type": "display_data",
          "data": {
            "text/plain": [
              "<IPython.core.display.HTML object>"
            ],
            "text/html": [
              "Tracking run with wandb version 0.19.11"
            ]
          },
          "metadata": {}
        },
        {
          "output_type": "display_data",
          "data": {
            "text/plain": [
              "<IPython.core.display.HTML object>"
            ],
            "text/html": [
              "Run data is saved locally in <code>/content/wandb/run-20250528_205004-uv4f8ut0</code>"
            ]
          },
          "metadata": {}
        },
        {
          "output_type": "display_data",
          "data": {
            "text/plain": [
              "<IPython.core.display.HTML object>"
            ],
            "text/html": [
              "Syncing run <strong><a href='https://wandb.ai/a-gapeeva/eotg-multilabel/runs/uv4f8ut0' target=\"_blank\">resnet18_smartAugm_of9r</a></strong> to <a href='https://wandb.ai/a-gapeeva/eotg-multilabel' target=\"_blank\">Weights & Biases</a> (<a href='https://wandb.me/developer-guide' target=\"_blank\">docs</a>)<br>"
            ]
          },
          "metadata": {}
        },
        {
          "output_type": "display_data",
          "data": {
            "text/plain": [
              "<IPython.core.display.HTML object>"
            ],
            "text/html": [
              " View project at <a href='https://wandb.ai/a-gapeeva/eotg-multilabel' target=\"_blank\">https://wandb.ai/a-gapeeva/eotg-multilabel</a>"
            ]
          },
          "metadata": {}
        },
        {
          "output_type": "display_data",
          "data": {
            "text/plain": [
              "<IPython.core.display.HTML object>"
            ],
            "text/html": [
              " View run at <a href='https://wandb.ai/a-gapeeva/eotg-multilabel/runs/uv4f8ut0' target=\"_blank\">https://wandb.ai/a-gapeeva/eotg-multilabel/runs/uv4f8ut0</a>"
            ]
          },
          "metadata": {}
        },
        {
          "output_type": "stream",
          "name": "stdout",
          "text": [
            "\n",
            "Epoch 1/10\n"
          ]
        },
        {
          "output_type": "stream",
          "name": "stderr",
          "text": [
            "Train:   0%|          | 0/432 [00:00<?, ?it/s]\n"
          ]
        },
        {
          "output_type": "error",
          "ename": "RuntimeError",
          "evalue": "Caught RuntimeError in DataLoader worker process 0.\nOriginal Traceback (most recent call last):\n  File \"/usr/local/lib/python3.11/dist-packages/torch/utils/data/_utils/worker.py\", line 349, in _worker_loop\n    data = fetcher.fetch(index)  # type: ignore[possibly-undefined]\n           ^^^^^^^^^^^^^^^^^^^^\n  File \"/usr/local/lib/python3.11/dist-packages/torch/utils/data/_utils/fetch.py\", line 55, in fetch\n    return self.collate_fn(data)\n           ^^^^^^^^^^^^^^^^^^^^^\n  File \"/usr/local/lib/python3.11/dist-packages/torch/utils/data/_utils/collate.py\", line 398, in default_collate\n    return collate(batch, collate_fn_map=default_collate_fn_map)\n           ^^^^^^^^^^^^^^^^^^^^^^^^^^^^^^^^^^^^^^^^^^^^^^^^^^^^^\n  File \"/usr/local/lib/python3.11/dist-packages/torch/utils/data/_utils/collate.py\", line 211, in collate\n    return [\n           ^\n  File \"/usr/local/lib/python3.11/dist-packages/torch/utils/data/_utils/collate.py\", line 212, in <listcomp>\n    collate(samples, collate_fn_map=collate_fn_map)\n  File \"/usr/local/lib/python3.11/dist-packages/torch/utils/data/_utils/collate.py\", line 155, in collate\n    return collate_fn_map[elem_type](batch, collate_fn_map=collate_fn_map)\n           ^^^^^^^^^^^^^^^^^^^^^^^^^^^^^^^^^^^^^^^^^^^^^^^^^^^^^^^^^^^^^^^\n  File \"/usr/local/lib/python3.11/dist-packages/torch/utils/data/_utils/collate.py\", line 271, in collate_tensor_fn\n    out = elem.new(storage).resize_(len(batch), *list(elem.size()))\n          ^^^^^^^^^^^^^^^^^^^^^^^^^^^^^^^^^^^^^^^^^^^^^^^^^^^^^^^^^\nRuntimeError: Trying to resize storage that is not resizable\n",
          "traceback": [
            "\u001b[0;31m---------------------------------------------------------------------------\u001b[0m",
            "\u001b[0;31mRuntimeError\u001b[0m                              Traceback (most recent call last)",
            "\u001b[0;32m<ipython-input-46-62ed93e4aa19>\u001b[0m in \u001b[0;36m<cell line: 0>\u001b[0;34m()\u001b[0m\n\u001b[1;32m      8\u001b[0m )\n\u001b[1;32m      9\u001b[0m \u001b[0;34m\u001b[0m\u001b[0m\n\u001b[0;32m---> 10\u001b[0;31m history_rn = train_and_validate_reg(\n\u001b[0m\u001b[1;32m     11\u001b[0m     \u001b[0mresnet18_model\u001b[0m\u001b[0;34m,\u001b[0m\u001b[0;34m\u001b[0m\u001b[0;34m\u001b[0m\u001b[0m\n\u001b[1;32m     12\u001b[0m     \u001b[0minverse_label_maps\u001b[0m\u001b[0;34m=\u001b[0m\u001b[0mtrain_ds\u001b[0m\u001b[0;34m.\u001b[0m\u001b[0minverse_label_maps\u001b[0m\u001b[0;34m,\u001b[0m\u001b[0;34m\u001b[0m\u001b[0;34m\u001b[0m\u001b[0m\n",
            "\u001b[0;32m<ipython-input-34-83802a68ec90>\u001b[0m in \u001b[0;36mtrain_and_validate_reg\u001b[0;34m(model, inverse_label_maps, train_loader, valid_loader, num_epochs, lr, model_path, weight_decay, early_stopping_patience, reduce_lr_patience, reduce_lr_factor)\u001b[0m\n\u001b[1;32m     45\u001b[0m \u001b[0;34m\u001b[0m\u001b[0m\n\u001b[1;32m     46\u001b[0m         \u001b[0;31m# training step\u001b[0m\u001b[0;34m\u001b[0m\u001b[0;34m\u001b[0m\u001b[0m\n\u001b[0;32m---> 47\u001b[0;31m         train_loss, train_acc, train_f1 = train_one_epoch(\n\u001b[0m\u001b[1;32m     48\u001b[0m             \u001b[0mmodel\u001b[0m\u001b[0;34m,\u001b[0m \u001b[0mtrain_loader\u001b[0m\u001b[0;34m,\u001b[0m \u001b[0moptimizer\u001b[0m\u001b[0;34m,\u001b[0m \u001b[0mcriterion\u001b[0m\u001b[0;34m,\u001b[0m \u001b[0mdevice\u001b[0m\u001b[0;34m\u001b[0m\u001b[0;34m\u001b[0m\u001b[0m\n\u001b[1;32m     49\u001b[0m         )\n",
            "\u001b[0;32m<ipython-input-32-cb4cf1d3413d>\u001b[0m in \u001b[0;36mtrain_one_epoch\u001b[0;34m(model, dataloader, optimizer, criterion, device)\u001b[0m\n\u001b[1;32m      5\u001b[0m     \u001b[0mall_labels\u001b[0m \u001b[0;34m=\u001b[0m \u001b[0mdefaultdict\u001b[0m\u001b[0;34m(\u001b[0m\u001b[0mlist\u001b[0m\u001b[0;34m)\u001b[0m\u001b[0;34m\u001b[0m\u001b[0;34m\u001b[0m\u001b[0m\n\u001b[1;32m      6\u001b[0m \u001b[0;34m\u001b[0m\u001b[0m\n\u001b[0;32m----> 7\u001b[0;31m     \u001b[0;32mfor\u001b[0m \u001b[0minputs\u001b[0m\u001b[0;34m,\u001b[0m \u001b[0mlabels\u001b[0m \u001b[0;32min\u001b[0m \u001b[0mtqdm\u001b[0m\u001b[0;34m(\u001b[0m\u001b[0mdataloader\u001b[0m\u001b[0;34m,\u001b[0m \u001b[0mdesc\u001b[0m\u001b[0;34m=\u001b[0m\u001b[0;34m'Train'\u001b[0m\u001b[0;34m)\u001b[0m\u001b[0;34m:\u001b[0m\u001b[0;34m\u001b[0m\u001b[0;34m\u001b[0m\u001b[0m\n\u001b[0m\u001b[1;32m      8\u001b[0m         \u001b[0minputs\u001b[0m \u001b[0;34m=\u001b[0m \u001b[0minputs\u001b[0m\u001b[0;34m.\u001b[0m\u001b[0mto\u001b[0m\u001b[0;34m(\u001b[0m\u001b[0mdevice\u001b[0m\u001b[0;34m)\u001b[0m\u001b[0;34m\u001b[0m\u001b[0;34m\u001b[0m\u001b[0m\n\u001b[1;32m      9\u001b[0m         \u001b[0mlabels\u001b[0m \u001b[0;34m=\u001b[0m \u001b[0;34m{\u001b[0m\u001b[0mk\u001b[0m\u001b[0;34m:\u001b[0m \u001b[0mv\u001b[0m\u001b[0;34m.\u001b[0m\u001b[0mto\u001b[0m\u001b[0;34m(\u001b[0m\u001b[0mdevice\u001b[0m\u001b[0;34m)\u001b[0m \u001b[0;32mfor\u001b[0m \u001b[0mk\u001b[0m\u001b[0;34m,\u001b[0m \u001b[0mv\u001b[0m \u001b[0;32min\u001b[0m \u001b[0mlabels\u001b[0m\u001b[0;34m.\u001b[0m\u001b[0mitems\u001b[0m\u001b[0;34m(\u001b[0m\u001b[0;34m)\u001b[0m\u001b[0;34m}\u001b[0m\u001b[0;34m\u001b[0m\u001b[0;34m\u001b[0m\u001b[0m\n",
            "\u001b[0;32m/usr/local/lib/python3.11/dist-packages/tqdm/std.py\u001b[0m in \u001b[0;36m__iter__\u001b[0;34m(self)\u001b[0m\n\u001b[1;32m   1179\u001b[0m \u001b[0;34m\u001b[0m\u001b[0m\n\u001b[1;32m   1180\u001b[0m         \u001b[0;32mtry\u001b[0m\u001b[0;34m:\u001b[0m\u001b[0;34m\u001b[0m\u001b[0;34m\u001b[0m\u001b[0m\n\u001b[0;32m-> 1181\u001b[0;31m             \u001b[0;32mfor\u001b[0m \u001b[0mobj\u001b[0m \u001b[0;32min\u001b[0m \u001b[0miterable\u001b[0m\u001b[0;34m:\u001b[0m\u001b[0;34m\u001b[0m\u001b[0;34m\u001b[0m\u001b[0m\n\u001b[0m\u001b[1;32m   1182\u001b[0m                 \u001b[0;32myield\u001b[0m \u001b[0mobj\u001b[0m\u001b[0;34m\u001b[0m\u001b[0;34m\u001b[0m\u001b[0m\n\u001b[1;32m   1183\u001b[0m                 \u001b[0;31m# Update and possibly print the progressbar.\u001b[0m\u001b[0;34m\u001b[0m\u001b[0;34m\u001b[0m\u001b[0m\n",
            "\u001b[0;32m/usr/local/lib/python3.11/dist-packages/torch/utils/data/dataloader.py\u001b[0m in \u001b[0;36m__next__\u001b[0;34m(self)\u001b[0m\n\u001b[1;32m    706\u001b[0m                 \u001b[0;31m# TODO(https://github.com/pytorch/pytorch/issues/76750)\u001b[0m\u001b[0;34m\u001b[0m\u001b[0;34m\u001b[0m\u001b[0m\n\u001b[1;32m    707\u001b[0m                 \u001b[0mself\u001b[0m\u001b[0;34m.\u001b[0m\u001b[0m_reset\u001b[0m\u001b[0;34m(\u001b[0m\u001b[0;34m)\u001b[0m  \u001b[0;31m# type: ignore[call-arg]\u001b[0m\u001b[0;34m\u001b[0m\u001b[0;34m\u001b[0m\u001b[0m\n\u001b[0;32m--> 708\u001b[0;31m             \u001b[0mdata\u001b[0m \u001b[0;34m=\u001b[0m \u001b[0mself\u001b[0m\u001b[0;34m.\u001b[0m\u001b[0m_next_data\u001b[0m\u001b[0;34m(\u001b[0m\u001b[0;34m)\u001b[0m\u001b[0;34m\u001b[0m\u001b[0;34m\u001b[0m\u001b[0m\n\u001b[0m\u001b[1;32m    709\u001b[0m             \u001b[0mself\u001b[0m\u001b[0;34m.\u001b[0m\u001b[0m_num_yielded\u001b[0m \u001b[0;34m+=\u001b[0m \u001b[0;36m1\u001b[0m\u001b[0;34m\u001b[0m\u001b[0;34m\u001b[0m\u001b[0m\n\u001b[1;32m    710\u001b[0m             if (\n",
            "\u001b[0;32m/usr/local/lib/python3.11/dist-packages/torch/utils/data/dataloader.py\u001b[0m in \u001b[0;36m_next_data\u001b[0;34m(self)\u001b[0m\n\u001b[1;32m   1478\u001b[0m                 \u001b[0;32mdel\u001b[0m \u001b[0mself\u001b[0m\u001b[0;34m.\u001b[0m\u001b[0m_task_info\u001b[0m\u001b[0;34m[\u001b[0m\u001b[0midx\u001b[0m\u001b[0;34m]\u001b[0m\u001b[0;34m\u001b[0m\u001b[0;34m\u001b[0m\u001b[0m\n\u001b[1;32m   1479\u001b[0m                 \u001b[0mself\u001b[0m\u001b[0;34m.\u001b[0m\u001b[0m_rcvd_idx\u001b[0m \u001b[0;34m+=\u001b[0m \u001b[0;36m1\u001b[0m\u001b[0;34m\u001b[0m\u001b[0;34m\u001b[0m\u001b[0m\n\u001b[0;32m-> 1480\u001b[0;31m                 \u001b[0;32mreturn\u001b[0m \u001b[0mself\u001b[0m\u001b[0;34m.\u001b[0m\u001b[0m_process_data\u001b[0m\u001b[0;34m(\u001b[0m\u001b[0mdata\u001b[0m\u001b[0;34m)\u001b[0m\u001b[0;34m\u001b[0m\u001b[0;34m\u001b[0m\u001b[0m\n\u001b[0m\u001b[1;32m   1481\u001b[0m \u001b[0;34m\u001b[0m\u001b[0m\n\u001b[1;32m   1482\u001b[0m     \u001b[0;32mdef\u001b[0m \u001b[0m_try_put_index\u001b[0m\u001b[0;34m(\u001b[0m\u001b[0mself\u001b[0m\u001b[0;34m)\u001b[0m\u001b[0;34m:\u001b[0m\u001b[0;34m\u001b[0m\u001b[0;34m\u001b[0m\u001b[0m\n",
            "\u001b[0;32m/usr/local/lib/python3.11/dist-packages/torch/utils/data/dataloader.py\u001b[0m in \u001b[0;36m_process_data\u001b[0;34m(self, data)\u001b[0m\n\u001b[1;32m   1503\u001b[0m         \u001b[0mself\u001b[0m\u001b[0;34m.\u001b[0m\u001b[0m_try_put_index\u001b[0m\u001b[0;34m(\u001b[0m\u001b[0;34m)\u001b[0m\u001b[0;34m\u001b[0m\u001b[0;34m\u001b[0m\u001b[0m\n\u001b[1;32m   1504\u001b[0m         \u001b[0;32mif\u001b[0m \u001b[0misinstance\u001b[0m\u001b[0;34m(\u001b[0m\u001b[0mdata\u001b[0m\u001b[0;34m,\u001b[0m \u001b[0mExceptionWrapper\u001b[0m\u001b[0;34m)\u001b[0m\u001b[0;34m:\u001b[0m\u001b[0;34m\u001b[0m\u001b[0;34m\u001b[0m\u001b[0m\n\u001b[0;32m-> 1505\u001b[0;31m             \u001b[0mdata\u001b[0m\u001b[0;34m.\u001b[0m\u001b[0mreraise\u001b[0m\u001b[0;34m(\u001b[0m\u001b[0;34m)\u001b[0m\u001b[0;34m\u001b[0m\u001b[0;34m\u001b[0m\u001b[0m\n\u001b[0m\u001b[1;32m   1506\u001b[0m         \u001b[0;32mreturn\u001b[0m \u001b[0mdata\u001b[0m\u001b[0;34m\u001b[0m\u001b[0;34m\u001b[0m\u001b[0m\n\u001b[1;32m   1507\u001b[0m \u001b[0;34m\u001b[0m\u001b[0m\n",
            "\u001b[0;32m/usr/local/lib/python3.11/dist-packages/torch/_utils.py\u001b[0m in \u001b[0;36mreraise\u001b[0;34m(self)\u001b[0m\n\u001b[1;32m    731\u001b[0m             \u001b[0;31m# instantiate since we don't know how to\u001b[0m\u001b[0;34m\u001b[0m\u001b[0;34m\u001b[0m\u001b[0m\n\u001b[1;32m    732\u001b[0m             \u001b[0;32mraise\u001b[0m \u001b[0mRuntimeError\u001b[0m\u001b[0;34m(\u001b[0m\u001b[0mmsg\u001b[0m\u001b[0;34m)\u001b[0m \u001b[0;32mfrom\u001b[0m \u001b[0;32mNone\u001b[0m\u001b[0;34m\u001b[0m\u001b[0;34m\u001b[0m\u001b[0m\n\u001b[0;32m--> 733\u001b[0;31m         \u001b[0;32mraise\u001b[0m \u001b[0mexception\u001b[0m\u001b[0;34m\u001b[0m\u001b[0;34m\u001b[0m\u001b[0m\n\u001b[0m\u001b[1;32m    734\u001b[0m \u001b[0;34m\u001b[0m\u001b[0m\n\u001b[1;32m    735\u001b[0m \u001b[0;34m\u001b[0m\u001b[0m\n",
            "\u001b[0;31mRuntimeError\u001b[0m: Caught RuntimeError in DataLoader worker process 0.\nOriginal Traceback (most recent call last):\n  File \"/usr/local/lib/python3.11/dist-packages/torch/utils/data/_utils/worker.py\", line 349, in _worker_loop\n    data = fetcher.fetch(index)  # type: ignore[possibly-undefined]\n           ^^^^^^^^^^^^^^^^^^^^\n  File \"/usr/local/lib/python3.11/dist-packages/torch/utils/data/_utils/fetch.py\", line 55, in fetch\n    return self.collate_fn(data)\n           ^^^^^^^^^^^^^^^^^^^^^\n  File \"/usr/local/lib/python3.11/dist-packages/torch/utils/data/_utils/collate.py\", line 398, in default_collate\n    return collate(batch, collate_fn_map=default_collate_fn_map)\n           ^^^^^^^^^^^^^^^^^^^^^^^^^^^^^^^^^^^^^^^^^^^^^^^^^^^^^\n  File \"/usr/local/lib/python3.11/dist-packages/torch/utils/data/_utils/collate.py\", line 211, in collate\n    return [\n           ^\n  File \"/usr/local/lib/python3.11/dist-packages/torch/utils/data/_utils/collate.py\", line 212, in <listcomp>\n    collate(samples, collate_fn_map=collate_fn_map)\n  File \"/usr/local/lib/python3.11/dist-packages/torch/utils/data/_utils/collate.py\", line 155, in collate\n    return collate_fn_map[elem_type](batch, collate_fn_map=collate_fn_map)\n           ^^^^^^^^^^^^^^^^^^^^^^^^^^^^^^^^^^^^^^^^^^^^^^^^^^^^^^^^^^^^^^^\n  File \"/usr/local/lib/python3.11/dist-packages/torch/utils/data/_utils/collate.py\", line 271, in collate_tensor_fn\n    out = elem.new(storage).resize_(len(batch), *list(elem.size()))\n          ^^^^^^^^^^^^^^^^^^^^^^^^^^^^^^^^^^^^^^^^^^^^^^^^^^^^^^^^^\nRuntimeError: Trying to resize storage that is not resizable\n"
          ]
        }
      ]
    },
    {
      "cell_type": "markdown",
      "source": [
        "## Improve model architecture"
      ],
      "metadata": {
        "id": "Y9fc_S9U5bn6"
      }
    },
    {
      "cell_type": "code",
      "source": [
        "class MultiHeadClassifierRN18Enhanced(nn.Module):\n",
        "    def __init__(self, num_classes_dict, dropout_p=0.3, hidden_dim=512):\n",
        "        super().__init__()\n",
        "        base = resnet18(weights=ResNet18_Weights.IMAGENET1K_V1)\n",
        "        self.backbone = nn.Sequential(*list(base.children())[:-1])  # без FC\n",
        "        self.flatten = nn.Flatten()\n",
        "        in_feat = base.fc.in_features\n",
        "\n",
        "        # General intermediate layer\n",
        "        self.shared_fc = nn.Sequential(\n",
        "            nn.Linear(in_feat, hidden_dim),\n",
        "            nn.BatchNorm1d(hidden_dim),\n",
        "            nn.ReLU(inplace=True),\n",
        "            nn.Dropout(dropout_p),\n",
        "        )\n",
        "\n",
        "        # Output for every head\n",
        "        self.heads = nn.ModuleDict({\n",
        "            name: nn.Sequential(\n",
        "                nn.Linear(hidden_dim, hidden_dim//2),\n",
        "                nn.BatchNorm1d(hidden_dim//2),\n",
        "                nn.ReLU(inplace=True),\n",
        "                nn.Dropout(dropout_p),\n",
        "                nn.Linear(hidden_dim//2, num_classes)\n",
        "            )\n",
        "            for name, num_classes in num_classes_dict.items()\n",
        "        })\n",
        "\n",
        "    def forward(self, x):\n",
        "        x = self.backbone(x)\n",
        "        x = self.flatten(x)\n",
        "        x = self.shared_fc(x)\n",
        "        return {name: head(x) for name, head in self.heads.items()}"
      ],
      "metadata": {
        "id": "4Qz2MenR2bLp"
      },
      "execution_count": 37,
      "outputs": []
    },
    {
      "cell_type": "code",
      "source": [
        "# Model creation\n",
        "resnet18_enh_model = MultiHeadClassifierRN18Enhanced(num_classes)"
      ],
      "metadata": {
        "id": "kKZoJdU553td"
      },
      "execution_count": 38,
      "outputs": []
    },
    {
      "cell_type": "code",
      "source": [
        "# Try ResNet18\n",
        "init_wandb_run(\n",
        "    model_name=\"resnet18_enh\",\n",
        "    label_maps=train_ds.label_maps,\n",
        "    num_epochs=10,\n",
        "    learning_rate=1e-4,\n",
        "    group=\"rn18_improve\"\n",
        ")\n",
        "\n",
        "history_rn = train_and_validate_reg(\n",
        "    resnet18_enh_model,\n",
        "    inverse_label_maps=train_ds.inverse_label_maps,\n",
        "    train_loader=train_loader,\n",
        "    valid_loader=valid_loader,\n",
        "    num_epochs=10,\n",
        "    lr=1e-4,\n",
        "    model_path='/content/drive/MyDrive/AgriSpectra/nn_weights/resnet18_enh.pth',\n",
        "    weight_decay=1e-5,\n",
        "    early_stopping_patience=5,\n",
        "    reduce_lr_patience=2,\n",
        "    reduce_lr_factor=0.5\n",
        ")"
      ],
      "metadata": {
        "id": "hOtFP_9L7C4j"
      },
      "execution_count": null,
      "outputs": []
    },
    {
      "cell_type": "markdown",
      "source": [
        "**Conclusion:**"
      ],
      "metadata": {
        "id": "NE94hMCb7NEb"
      }
    },
    {
      "cell_type": "code",
      "source": [
        "train_transform = T.Compose([\n",
        "    T.RandomResizedCrop(256, scale=(0.8, 1.0), ratio=(0.9, 1.1)),\n",
        "    T.RandomHorizontalFlip(p=0.5),\n",
        "    T.RandomVerticalFlip(p=0.2),\n",
        "    T.RandomApply([\n",
        "        T.ColorJitter(brightness=0.2, contrast=0.2, saturation=0.2, hue=0.05)\n",
        "    ], p=0.5),\n",
        "    T.RandomApply([T.GaussianBlur(kernel_size=5, sigma=(0.1, 2.0))], p=0.3),\n",
        "    T.RandAugment(num_ops=2, magnitude=7),\n",
        "    T.Resize(256),\n",
        "    T.ToTensor(),\n",
        "    T.Normalize(mean=mean, std=std),\n",
        "])\n",
        "\n",
        "test_transform = T.Compose([\n",
        "        T.Resize(image_size),\n",
        "        T.ToTensor(),\n",
        "        T.Normalize(mean=mean, std=std)\n",
        "    ])"
      ],
      "metadata": {
        "id": "htrSZfuZ7P2T"
      },
      "execution_count": 50,
      "outputs": []
    },
    {
      "cell_type": "code",
      "source": [
        "# Initialize train dataset\n",
        "train_ds = MultiHeadEotGDataset(\n",
        "    csv_file=train_csv,\n",
        "    image_dir=image_dir,\n",
        "    transform=train_transform\n",
        ")\n",
        "\n",
        "label_maps = train_ds.label_maps\n",
        "# inverse_label_maps = train_ds.inverse_label_maps\n",
        "# label_cols = train_ds.label_cols\n",
        "\n",
        "# Initialize test dataset with same mapping\n",
        "test_ds = MultiHeadEotGDataset(\n",
        "    csv_file=test_csv,\n",
        "    image_dir=image_dir,\n",
        "    transform=test_transform,\n",
        "    label_maps=label_maps\n",
        ")"
      ],
      "metadata": {
        "id": "yKsXqeWWe-sQ"
      },
      "execution_count": 51,
      "outputs": []
    },
    {
      "cell_type": "code",
      "source": [
        "init_wandb_run(\n",
        "    model_name=\"resnet18_equalAugm\",\n",
        "    label_maps=train_ds.label_maps,\n",
        "    num_epochs=10,\n",
        "    learning_rate=1e-4,\n",
        "    group=\"rn18_improve\"\n",
        ")\n",
        "\n",
        "history_rn = train_and_validate_reg(\n",
        "    resnet18_enh_model,\n",
        "    inverse_label_maps=train_ds.inverse_label_maps,\n",
        "    train_loader=train_loader,\n",
        "    valid_loader=valid_loader,\n",
        "    num_epochs=10,\n",
        "    lr=1e-4,\n",
        "    model_path='/content/drive/MyDrive/AgriSpectra/nn_weights/resnet18_equalAugm.pth',\n",
        "    weight_decay=1e-5,\n",
        "    early_stopping_patience=5,\n",
        "    reduce_lr_patience=2,\n",
        "    reduce_lr_factor=0.5\n",
        ")"
      ],
      "metadata": {
        "colab": {
          "base_uri": "https://localhost:8080/",
          "height": 1000
        },
        "id": "r1dJNFoofjg6",
        "outputId": "773d0cd4-4e20-4477-d6ff-44c7437483e3"
      },
      "execution_count": 52,
      "outputs": [
        {
          "output_type": "display_data",
          "data": {
            "text/plain": [
              "<IPython.core.display.HTML object>"
            ],
            "text/html": [
              "Finishing previous runs because reinit is set to 'default'."
            ]
          },
          "metadata": {}
        },
        {
          "output_type": "display_data",
          "data": {
            "text/plain": [
              "<IPython.core.display.HTML object>"
            ],
            "text/html": []
          },
          "metadata": {}
        },
        {
          "output_type": "display_data",
          "data": {
            "text/plain": [
              "<IPython.core.display.HTML object>"
            ],
            "text/html": [
              " View run <strong style=\"color:#cdcd00\">resnet18_smartAugm_of9r</strong> at: <a href='https://wandb.ai/a-gapeeva/eotg-multilabel/runs/uv4f8ut0' target=\"_blank\">https://wandb.ai/a-gapeeva/eotg-multilabel/runs/uv4f8ut0</a><br> View project at: <a href='https://wandb.ai/a-gapeeva/eotg-multilabel' target=\"_blank\">https://wandb.ai/a-gapeeva/eotg-multilabel</a><br>Synced 5 W&B file(s), 0 media file(s), 0 artifact file(s) and 0 other file(s)"
            ]
          },
          "metadata": {}
        },
        {
          "output_type": "display_data",
          "data": {
            "text/plain": [
              "<IPython.core.display.HTML object>"
            ],
            "text/html": [
              "Find logs at: <code>./wandb/run-20250528_205004-uv4f8ut0/logs</code>"
            ]
          },
          "metadata": {}
        },
        {
          "output_type": "display_data",
          "data": {
            "text/plain": [
              "<IPython.core.display.HTML object>"
            ],
            "text/html": [
              "Tracking run with wandb version 0.19.11"
            ]
          },
          "metadata": {}
        },
        {
          "output_type": "display_data",
          "data": {
            "text/plain": [
              "<IPython.core.display.HTML object>"
            ],
            "text/html": [
              "Run data is saved locally in <code>/content/wandb/run-20250528_205520-e18qdgkr</code>"
            ]
          },
          "metadata": {}
        },
        {
          "output_type": "display_data",
          "data": {
            "text/plain": [
              "<IPython.core.display.HTML object>"
            ],
            "text/html": [
              "Syncing run <strong><a href='https://wandb.ai/a-gapeeva/eotg-multilabel/runs/e18qdgkr' target=\"_blank\">resnet18_equalAugm_uiyi</a></strong> to <a href='https://wandb.ai/a-gapeeva/eotg-multilabel' target=\"_blank\">Weights & Biases</a> (<a href='https://wandb.me/developer-guide' target=\"_blank\">docs</a>)<br>"
            ]
          },
          "metadata": {}
        },
        {
          "output_type": "display_data",
          "data": {
            "text/plain": [
              "<IPython.core.display.HTML object>"
            ],
            "text/html": [
              " View project at <a href='https://wandb.ai/a-gapeeva/eotg-multilabel' target=\"_blank\">https://wandb.ai/a-gapeeva/eotg-multilabel</a>"
            ]
          },
          "metadata": {}
        },
        {
          "output_type": "display_data",
          "data": {
            "text/plain": [
              "<IPython.core.display.HTML object>"
            ],
            "text/html": [
              " View run at <a href='https://wandb.ai/a-gapeeva/eotg-multilabel/runs/e18qdgkr' target=\"_blank\">https://wandb.ai/a-gapeeva/eotg-multilabel/runs/e18qdgkr</a>"
            ]
          },
          "metadata": {}
        },
        {
          "output_type": "stream",
          "name": "stderr",
          "text": [
            "/usr/local/lib/python3.11/dist-packages/torch/optim/lr_scheduler.py:62: UserWarning: The verbose parameter is deprecated. Please use get_last_lr() to access the learning rate.\n",
            "  warnings.warn(\n"
          ]
        },
        {
          "output_type": "stream",
          "name": "stdout",
          "text": [
            "\n",
            "Epoch 1/10\n"
          ]
        },
        {
          "output_type": "stream",
          "name": "stderr",
          "text": [
            "Train:   0%|          | 0/432 [00:00<?, ?it/s]\n"
          ]
        },
        {
          "output_type": "error",
          "ename": "RuntimeError",
          "evalue": "Caught RuntimeError in DataLoader worker process 0.\nOriginal Traceback (most recent call last):\n  File \"/usr/local/lib/python3.11/dist-packages/torch/utils/data/_utils/worker.py\", line 349, in _worker_loop\n    data = fetcher.fetch(index)  # type: ignore[possibly-undefined]\n           ^^^^^^^^^^^^^^^^^^^^\n  File \"/usr/local/lib/python3.11/dist-packages/torch/utils/data/_utils/fetch.py\", line 55, in fetch\n    return self.collate_fn(data)\n           ^^^^^^^^^^^^^^^^^^^^^\n  File \"/usr/local/lib/python3.11/dist-packages/torch/utils/data/_utils/collate.py\", line 398, in default_collate\n    return collate(batch, collate_fn_map=default_collate_fn_map)\n           ^^^^^^^^^^^^^^^^^^^^^^^^^^^^^^^^^^^^^^^^^^^^^^^^^^^^^\n  File \"/usr/local/lib/python3.11/dist-packages/torch/utils/data/_utils/collate.py\", line 211, in collate\n    return [\n           ^\n  File \"/usr/local/lib/python3.11/dist-packages/torch/utils/data/_utils/collate.py\", line 212, in <listcomp>\n    collate(samples, collate_fn_map=collate_fn_map)\n  File \"/usr/local/lib/python3.11/dist-packages/torch/utils/data/_utils/collate.py\", line 155, in collate\n    return collate_fn_map[elem_type](batch, collate_fn_map=collate_fn_map)\n           ^^^^^^^^^^^^^^^^^^^^^^^^^^^^^^^^^^^^^^^^^^^^^^^^^^^^^^^^^^^^^^^\n  File \"/usr/local/lib/python3.11/dist-packages/torch/utils/data/_utils/collate.py\", line 272, in collate_tensor_fn\n    return torch.stack(batch, 0, out=out)\n           ^^^^^^^^^^^^^^^^^^^^^^^^^^^^^^\nRuntimeError: stack expects each tensor to be equal size, but got [3, 200, 200] at entry 0 and [3, 256, 256] at entry 1\n",
          "traceback": [
            "\u001b[0;31m---------------------------------------------------------------------------\u001b[0m",
            "\u001b[0;31mRuntimeError\u001b[0m                              Traceback (most recent call last)",
            "\u001b[0;32m<ipython-input-52-0887cb5786e5>\u001b[0m in \u001b[0;36m<cell line: 0>\u001b[0;34m()\u001b[0m\n\u001b[1;32m      7\u001b[0m )\n\u001b[1;32m      8\u001b[0m \u001b[0;34m\u001b[0m\u001b[0m\n\u001b[0;32m----> 9\u001b[0;31m history_rn = train_and_validate_reg(\n\u001b[0m\u001b[1;32m     10\u001b[0m     \u001b[0mresnet18_enh_model\u001b[0m\u001b[0;34m,\u001b[0m\u001b[0;34m\u001b[0m\u001b[0;34m\u001b[0m\u001b[0m\n\u001b[1;32m     11\u001b[0m     \u001b[0minverse_label_maps\u001b[0m\u001b[0;34m=\u001b[0m\u001b[0mtrain_ds\u001b[0m\u001b[0;34m.\u001b[0m\u001b[0minverse_label_maps\u001b[0m\u001b[0;34m,\u001b[0m\u001b[0;34m\u001b[0m\u001b[0;34m\u001b[0m\u001b[0m\n",
            "\u001b[0;32m<ipython-input-34-83802a68ec90>\u001b[0m in \u001b[0;36mtrain_and_validate_reg\u001b[0;34m(model, inverse_label_maps, train_loader, valid_loader, num_epochs, lr, model_path, weight_decay, early_stopping_patience, reduce_lr_patience, reduce_lr_factor)\u001b[0m\n\u001b[1;32m     45\u001b[0m \u001b[0;34m\u001b[0m\u001b[0m\n\u001b[1;32m     46\u001b[0m         \u001b[0;31m# training step\u001b[0m\u001b[0;34m\u001b[0m\u001b[0;34m\u001b[0m\u001b[0m\n\u001b[0;32m---> 47\u001b[0;31m         train_loss, train_acc, train_f1 = train_one_epoch(\n\u001b[0m\u001b[1;32m     48\u001b[0m             \u001b[0mmodel\u001b[0m\u001b[0;34m,\u001b[0m \u001b[0mtrain_loader\u001b[0m\u001b[0;34m,\u001b[0m \u001b[0moptimizer\u001b[0m\u001b[0;34m,\u001b[0m \u001b[0mcriterion\u001b[0m\u001b[0;34m,\u001b[0m \u001b[0mdevice\u001b[0m\u001b[0;34m\u001b[0m\u001b[0;34m\u001b[0m\u001b[0m\n\u001b[1;32m     49\u001b[0m         )\n",
            "\u001b[0;32m<ipython-input-32-cb4cf1d3413d>\u001b[0m in \u001b[0;36mtrain_one_epoch\u001b[0;34m(model, dataloader, optimizer, criterion, device)\u001b[0m\n\u001b[1;32m      5\u001b[0m     \u001b[0mall_labels\u001b[0m \u001b[0;34m=\u001b[0m \u001b[0mdefaultdict\u001b[0m\u001b[0;34m(\u001b[0m\u001b[0mlist\u001b[0m\u001b[0;34m)\u001b[0m\u001b[0;34m\u001b[0m\u001b[0;34m\u001b[0m\u001b[0m\n\u001b[1;32m      6\u001b[0m \u001b[0;34m\u001b[0m\u001b[0m\n\u001b[0;32m----> 7\u001b[0;31m     \u001b[0;32mfor\u001b[0m \u001b[0minputs\u001b[0m\u001b[0;34m,\u001b[0m \u001b[0mlabels\u001b[0m \u001b[0;32min\u001b[0m \u001b[0mtqdm\u001b[0m\u001b[0;34m(\u001b[0m\u001b[0mdataloader\u001b[0m\u001b[0;34m,\u001b[0m \u001b[0mdesc\u001b[0m\u001b[0;34m=\u001b[0m\u001b[0;34m'Train'\u001b[0m\u001b[0;34m)\u001b[0m\u001b[0;34m:\u001b[0m\u001b[0;34m\u001b[0m\u001b[0;34m\u001b[0m\u001b[0m\n\u001b[0m\u001b[1;32m      8\u001b[0m         \u001b[0minputs\u001b[0m \u001b[0;34m=\u001b[0m \u001b[0minputs\u001b[0m\u001b[0;34m.\u001b[0m\u001b[0mto\u001b[0m\u001b[0;34m(\u001b[0m\u001b[0mdevice\u001b[0m\u001b[0;34m)\u001b[0m\u001b[0;34m\u001b[0m\u001b[0;34m\u001b[0m\u001b[0m\n\u001b[1;32m      9\u001b[0m         \u001b[0mlabels\u001b[0m \u001b[0;34m=\u001b[0m \u001b[0;34m{\u001b[0m\u001b[0mk\u001b[0m\u001b[0;34m:\u001b[0m \u001b[0mv\u001b[0m\u001b[0;34m.\u001b[0m\u001b[0mto\u001b[0m\u001b[0;34m(\u001b[0m\u001b[0mdevice\u001b[0m\u001b[0;34m)\u001b[0m \u001b[0;32mfor\u001b[0m \u001b[0mk\u001b[0m\u001b[0;34m,\u001b[0m \u001b[0mv\u001b[0m \u001b[0;32min\u001b[0m \u001b[0mlabels\u001b[0m\u001b[0;34m.\u001b[0m\u001b[0mitems\u001b[0m\u001b[0;34m(\u001b[0m\u001b[0;34m)\u001b[0m\u001b[0;34m}\u001b[0m\u001b[0;34m\u001b[0m\u001b[0;34m\u001b[0m\u001b[0m\n",
            "\u001b[0;32m/usr/local/lib/python3.11/dist-packages/tqdm/std.py\u001b[0m in \u001b[0;36m__iter__\u001b[0;34m(self)\u001b[0m\n\u001b[1;32m   1179\u001b[0m \u001b[0;34m\u001b[0m\u001b[0m\n\u001b[1;32m   1180\u001b[0m         \u001b[0;32mtry\u001b[0m\u001b[0;34m:\u001b[0m\u001b[0;34m\u001b[0m\u001b[0;34m\u001b[0m\u001b[0m\n\u001b[0;32m-> 1181\u001b[0;31m             \u001b[0;32mfor\u001b[0m \u001b[0mobj\u001b[0m \u001b[0;32min\u001b[0m \u001b[0miterable\u001b[0m\u001b[0;34m:\u001b[0m\u001b[0;34m\u001b[0m\u001b[0;34m\u001b[0m\u001b[0m\n\u001b[0m\u001b[1;32m   1182\u001b[0m                 \u001b[0;32myield\u001b[0m \u001b[0mobj\u001b[0m\u001b[0;34m\u001b[0m\u001b[0;34m\u001b[0m\u001b[0m\n\u001b[1;32m   1183\u001b[0m                 \u001b[0;31m# Update and possibly print the progressbar.\u001b[0m\u001b[0;34m\u001b[0m\u001b[0;34m\u001b[0m\u001b[0m\n",
            "\u001b[0;32m/usr/local/lib/python3.11/dist-packages/torch/utils/data/dataloader.py\u001b[0m in \u001b[0;36m__next__\u001b[0;34m(self)\u001b[0m\n\u001b[1;32m    706\u001b[0m                 \u001b[0;31m# TODO(https://github.com/pytorch/pytorch/issues/76750)\u001b[0m\u001b[0;34m\u001b[0m\u001b[0;34m\u001b[0m\u001b[0m\n\u001b[1;32m    707\u001b[0m                 \u001b[0mself\u001b[0m\u001b[0;34m.\u001b[0m\u001b[0m_reset\u001b[0m\u001b[0;34m(\u001b[0m\u001b[0;34m)\u001b[0m  \u001b[0;31m# type: ignore[call-arg]\u001b[0m\u001b[0;34m\u001b[0m\u001b[0;34m\u001b[0m\u001b[0m\n\u001b[0;32m--> 708\u001b[0;31m             \u001b[0mdata\u001b[0m \u001b[0;34m=\u001b[0m \u001b[0mself\u001b[0m\u001b[0;34m.\u001b[0m\u001b[0m_next_data\u001b[0m\u001b[0;34m(\u001b[0m\u001b[0;34m)\u001b[0m\u001b[0;34m\u001b[0m\u001b[0;34m\u001b[0m\u001b[0m\n\u001b[0m\u001b[1;32m    709\u001b[0m             \u001b[0mself\u001b[0m\u001b[0;34m.\u001b[0m\u001b[0m_num_yielded\u001b[0m \u001b[0;34m+=\u001b[0m \u001b[0;36m1\u001b[0m\u001b[0;34m\u001b[0m\u001b[0;34m\u001b[0m\u001b[0m\n\u001b[1;32m    710\u001b[0m             if (\n",
            "\u001b[0;32m/usr/local/lib/python3.11/dist-packages/torch/utils/data/dataloader.py\u001b[0m in \u001b[0;36m_next_data\u001b[0;34m(self)\u001b[0m\n\u001b[1;32m   1478\u001b[0m                 \u001b[0;32mdel\u001b[0m \u001b[0mself\u001b[0m\u001b[0;34m.\u001b[0m\u001b[0m_task_info\u001b[0m\u001b[0;34m[\u001b[0m\u001b[0midx\u001b[0m\u001b[0;34m]\u001b[0m\u001b[0;34m\u001b[0m\u001b[0;34m\u001b[0m\u001b[0m\n\u001b[1;32m   1479\u001b[0m                 \u001b[0mself\u001b[0m\u001b[0;34m.\u001b[0m\u001b[0m_rcvd_idx\u001b[0m \u001b[0;34m+=\u001b[0m \u001b[0;36m1\u001b[0m\u001b[0;34m\u001b[0m\u001b[0;34m\u001b[0m\u001b[0m\n\u001b[0;32m-> 1480\u001b[0;31m                 \u001b[0;32mreturn\u001b[0m \u001b[0mself\u001b[0m\u001b[0;34m.\u001b[0m\u001b[0m_process_data\u001b[0m\u001b[0;34m(\u001b[0m\u001b[0mdata\u001b[0m\u001b[0;34m)\u001b[0m\u001b[0;34m\u001b[0m\u001b[0;34m\u001b[0m\u001b[0m\n\u001b[0m\u001b[1;32m   1481\u001b[0m \u001b[0;34m\u001b[0m\u001b[0m\n\u001b[1;32m   1482\u001b[0m     \u001b[0;32mdef\u001b[0m \u001b[0m_try_put_index\u001b[0m\u001b[0;34m(\u001b[0m\u001b[0mself\u001b[0m\u001b[0;34m)\u001b[0m\u001b[0;34m:\u001b[0m\u001b[0;34m\u001b[0m\u001b[0;34m\u001b[0m\u001b[0m\n",
            "\u001b[0;32m/usr/local/lib/python3.11/dist-packages/torch/utils/data/dataloader.py\u001b[0m in \u001b[0;36m_process_data\u001b[0;34m(self, data)\u001b[0m\n\u001b[1;32m   1503\u001b[0m         \u001b[0mself\u001b[0m\u001b[0;34m.\u001b[0m\u001b[0m_try_put_index\u001b[0m\u001b[0;34m(\u001b[0m\u001b[0;34m)\u001b[0m\u001b[0;34m\u001b[0m\u001b[0;34m\u001b[0m\u001b[0m\n\u001b[1;32m   1504\u001b[0m         \u001b[0;32mif\u001b[0m \u001b[0misinstance\u001b[0m\u001b[0;34m(\u001b[0m\u001b[0mdata\u001b[0m\u001b[0;34m,\u001b[0m \u001b[0mExceptionWrapper\u001b[0m\u001b[0;34m)\u001b[0m\u001b[0;34m:\u001b[0m\u001b[0;34m\u001b[0m\u001b[0;34m\u001b[0m\u001b[0m\n\u001b[0;32m-> 1505\u001b[0;31m             \u001b[0mdata\u001b[0m\u001b[0;34m.\u001b[0m\u001b[0mreraise\u001b[0m\u001b[0;34m(\u001b[0m\u001b[0;34m)\u001b[0m\u001b[0;34m\u001b[0m\u001b[0;34m\u001b[0m\u001b[0m\n\u001b[0m\u001b[1;32m   1506\u001b[0m         \u001b[0;32mreturn\u001b[0m \u001b[0mdata\u001b[0m\u001b[0;34m\u001b[0m\u001b[0;34m\u001b[0m\u001b[0m\n\u001b[1;32m   1507\u001b[0m \u001b[0;34m\u001b[0m\u001b[0m\n",
            "\u001b[0;32m/usr/local/lib/python3.11/dist-packages/torch/_utils.py\u001b[0m in \u001b[0;36mreraise\u001b[0;34m(self)\u001b[0m\n\u001b[1;32m    731\u001b[0m             \u001b[0;31m# instantiate since we don't know how to\u001b[0m\u001b[0;34m\u001b[0m\u001b[0;34m\u001b[0m\u001b[0m\n\u001b[1;32m    732\u001b[0m             \u001b[0;32mraise\u001b[0m \u001b[0mRuntimeError\u001b[0m\u001b[0;34m(\u001b[0m\u001b[0mmsg\u001b[0m\u001b[0;34m)\u001b[0m \u001b[0;32mfrom\u001b[0m \u001b[0;32mNone\u001b[0m\u001b[0;34m\u001b[0m\u001b[0;34m\u001b[0m\u001b[0m\n\u001b[0;32m--> 733\u001b[0;31m         \u001b[0;32mraise\u001b[0m \u001b[0mexception\u001b[0m\u001b[0;34m\u001b[0m\u001b[0;34m\u001b[0m\u001b[0m\n\u001b[0m\u001b[1;32m    734\u001b[0m \u001b[0;34m\u001b[0m\u001b[0m\n\u001b[1;32m    735\u001b[0m \u001b[0;34m\u001b[0m\u001b[0m\n",
            "\u001b[0;31mRuntimeError\u001b[0m: Caught RuntimeError in DataLoader worker process 0.\nOriginal Traceback (most recent call last):\n  File \"/usr/local/lib/python3.11/dist-packages/torch/utils/data/_utils/worker.py\", line 349, in _worker_loop\n    data = fetcher.fetch(index)  # type: ignore[possibly-undefined]\n           ^^^^^^^^^^^^^^^^^^^^\n  File \"/usr/local/lib/python3.11/dist-packages/torch/utils/data/_utils/fetch.py\", line 55, in fetch\n    return self.collate_fn(data)\n           ^^^^^^^^^^^^^^^^^^^^^\n  File \"/usr/local/lib/python3.11/dist-packages/torch/utils/data/_utils/collate.py\", line 398, in default_collate\n    return collate(batch, collate_fn_map=default_collate_fn_map)\n           ^^^^^^^^^^^^^^^^^^^^^^^^^^^^^^^^^^^^^^^^^^^^^^^^^^^^^\n  File \"/usr/local/lib/python3.11/dist-packages/torch/utils/data/_utils/collate.py\", line 211, in collate\n    return [\n           ^\n  File \"/usr/local/lib/python3.11/dist-packages/torch/utils/data/_utils/collate.py\", line 212, in <listcomp>\n    collate(samples, collate_fn_map=collate_fn_map)\n  File \"/usr/local/lib/python3.11/dist-packages/torch/utils/data/_utils/collate.py\", line 155, in collate\n    return collate_fn_map[elem_type](batch, collate_fn_map=collate_fn_map)\n           ^^^^^^^^^^^^^^^^^^^^^^^^^^^^^^^^^^^^^^^^^^^^^^^^^^^^^^^^^^^^^^^\n  File \"/usr/local/lib/python3.11/dist-packages/torch/utils/data/_utils/collate.py\", line 272, in collate_tensor_fn\n    return torch.stack(batch, 0, out=out)\n           ^^^^^^^^^^^^^^^^^^^^^^^^^^^^^^\nRuntimeError: stack expects each tensor to be equal size, but got [3, 200, 200] at entry 0 and [3, 256, 256] at entry 1\n"
          ]
        }
      ]
    },
    {
      "cell_type": "code",
      "source": [],
      "metadata": {
        "id": "Ng1_aBoOgMfV"
      },
      "execution_count": null,
      "outputs": []
    }
  ]
}